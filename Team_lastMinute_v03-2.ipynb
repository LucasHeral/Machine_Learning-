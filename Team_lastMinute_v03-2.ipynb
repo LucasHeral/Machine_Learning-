{
  "nbformat": 4,
  "nbformat_minor": 0,
  "metadata": {
    "colab": {
      "name": "Team-lastMinute_v03.ipynb",
      "provenance": [],
      "collapsed_sections": [
        "QEMKKZE8u4GV",
        "t7UC6SulvD62",
        "GIWEEBkhuIsZ",
        "xUfTrRj2uXVc",
        "XYr87a1rPW-e",
        "NNxce6CG8gdm",
        "7OOtPmZs8uYD",
        "7DFIxDZC8-y9",
        "WYP_2SaJ9FIb",
        "ka2ea8Lqq_RU",
        "NYtv1fHpQuiu",
        "gOQ35y8eQw0o",
        "iuoq5E3FEAbJ",
        "I_Ljjp9X-3iz",
        "Vg7UF5Dq-9RN",
        "1RnlrQ-5Euod",
        "ACYgQWf4_JQ5",
        "mdnqd6V-uRBO",
        "zAOXXdMsVsMZ",
        "coqI2r6xV79r"
      ]
    },
    "kernelspec": {
      "display_name": "Python 3",
      "name": "python3"
    },
    "language_info": {
      "name": "python"
    }
  },
  "cells": [
    {
      "cell_type": "markdown",
      "metadata": {
        "id": "AEUDpu19qoYx"
      },
      "source": [
        "#HW2 - Machine Learning \n",
        "##Louis de Leyritz, Felix Hans, Louis Le Bret, Lucas Héral \n",
        "###Team Last Minute"
      ]
    },
    {
      "cell_type": "markdown",
      "metadata": {
        "id": "j_pbnS8oq5KT"
      },
      "source": [
        "#Set-up"
      ]
    },
    {
      "cell_type": "markdown",
      "metadata": {
        "id": "QEMKKZE8u4GV"
      },
      "source": [
        "###Libraries and reading the datasets"
      ]
    },
    {
      "cell_type": "code",
      "metadata": {
        "id": "yvfOEAhsNPvT"
      },
      "source": [
        "#Dowloading all the required libraries\n",
        "from sklearn.preprocessing import OneHotEncoder\n",
        "from sklearn.neighbors import KNeighborsClassifier\n",
        "from sklearn.metrics import accuracy_score\n",
        "from sklearn.feature_selection import VarianceThreshold\n",
        "import numpy as np\n",
        "import pandas as pd\n",
        "import seaborn as sns\n",
        "import matplotlib.pyplot as plt\n",
        "from google.colab import drive\n",
        "\n"
      ],
      "execution_count": null,
      "outputs": []
    },
    {
      "cell_type": "code",
      "metadata": {
        "colab": {
          "base_uri": "https://localhost:8080/"
        },
        "id": "2eBv5TkmrwOH",
        "outputId": "93b5feef-a5de-4fb2-86a7-6afac42e7331"
      },
      "source": [
        "drive = drive.mount('/content/drive')#If you imported the datasets to your drive"
      ],
      "execution_count": null,
      "outputs": [
        {
          "output_type": "stream",
          "name": "stdout",
          "text": [
            "Mounted at /content/drive\n"
          ]
        }
      ]
    },
    {
      "cell_type": "code",
      "metadata": {
        "id": "AAvb5A1-N1gp"
      },
      "source": [
        "#Reading up the datasets, don't forget to change paths\n",
        "train_df = pd.read_csv('/content/drive/My Drive/Assignment3-Kaggle/train.csv', index_col=0) \n",
        "test_df = pd.read_csv('/content/drive/My Drive/Assignment3-Kaggle/test.csv', index_col=0)\n"
      ],
      "execution_count": null,
      "outputs": []
    },
    {
      "cell_type": "code",
      "metadata": {
        "colab": {
          "base_uri": "https://localhost:8080/",
          "height": 581
        },
        "id": "yiHlraaON7Y6",
        "outputId": "56d6fc9f-ecc9-4be0-9938-6621a85fe76b"
      },
      "source": [
        "test_df.head()"
      ],
      "execution_count": null,
      "outputs": [
        {
          "output_type": "execute_result",
          "data": {
            "text/html": [
              "<div>\n",
              "<style scoped>\n",
              "    .dataframe tbody tr th:only-of-type {\n",
              "        vertical-align: middle;\n",
              "    }\n",
              "\n",
              "    .dataframe tbody tr th {\n",
              "        vertical-align: top;\n",
              "    }\n",
              "\n",
              "    .dataframe thead th {\n",
              "        text-align: right;\n",
              "    }\n",
              "</style>\n",
              "<table border=\"1\" class=\"dataframe\">\n",
              "  <thead>\n",
              "    <tr style=\"text-align: right;\">\n",
              "      <th></th>\n",
              "      <th>date</th>\n",
              "      <th>org</th>\n",
              "      <th>tld</th>\n",
              "      <th>ccs</th>\n",
              "      <th>bcced</th>\n",
              "      <th>mail_type</th>\n",
              "      <th>images</th>\n",
              "      <th>urls</th>\n",
              "      <th>salutations</th>\n",
              "      <th>designation</th>\n",
              "      <th>chars_in_subject</th>\n",
              "      <th>chars_in_body</th>\n",
              "    </tr>\n",
              "  </thead>\n",
              "  <tbody>\n",
              "    <tr>\n",
              "      <th>0</th>\n",
              "      <td>Wed, 1 Nov 2017 15:51:21 +0530</td>\n",
              "      <td>iiitd</td>\n",
              "      <td>ac.in</td>\n",
              "      <td>0</td>\n",
              "      <td>0</td>\n",
              "      <td>multipart/alternative</td>\n",
              "      <td>0</td>\n",
              "      <td>12</td>\n",
              "      <td>1</td>\n",
              "      <td>0</td>\n",
              "      <td>20.0</td>\n",
              "      <td>4505</td>\n",
              "    </tr>\n",
              "    <tr>\n",
              "      <th>1</th>\n",
              "      <td>Thu, 05 Mar 2015 20:47:22 -0500</td>\n",
              "      <td>notifications</td>\n",
              "      <td>freelancer.com</td>\n",
              "      <td>0</td>\n",
              "      <td>0</td>\n",
              "      <td>multipart/alternative</td>\n",
              "      <td>7</td>\n",
              "      <td>49</td>\n",
              "      <td>1</td>\n",
              "      <td>0</td>\n",
              "      <td>49.0</td>\n",
              "      <td>32949</td>\n",
              "    </tr>\n",
              "    <tr>\n",
              "      <th>2</th>\n",
              "      <td>Thu, 21 Apr 2016 14:53:08 +0530</td>\n",
              "      <td>iiitd</td>\n",
              "      <td>ac.in</td>\n",
              "      <td>1</td>\n",
              "      <td>0</td>\n",
              "      <td>multipart/alternative</td>\n",
              "      <td>0</td>\n",
              "      <td>0</td>\n",
              "      <td>1</td>\n",
              "      <td>0</td>\n",
              "      <td>24.0</td>\n",
              "      <td>1707</td>\n",
              "    </tr>\n",
              "    <tr>\n",
              "      <th>3</th>\n",
              "      <td>Tue, 06 Feb 2018 12:12:08 +0000 (UTC)</td>\n",
              "      <td>udacity</td>\n",
              "      <td>com</td>\n",
              "      <td>0</td>\n",
              "      <td>0</td>\n",
              "      <td>multipart/alternative</td>\n",
              "      <td>13</td>\n",
              "      <td>50</td>\n",
              "      <td>1</td>\n",
              "      <td>0</td>\n",
              "      <td>70.0</td>\n",
              "      <td>76686</td>\n",
              "    </tr>\n",
              "    <tr>\n",
              "      <th>4</th>\n",
              "      <td>Tue, 21 May 2019 05:56:27 -0700</td>\n",
              "      <td>google</td>\n",
              "      <td>com</td>\n",
              "      <td>0</td>\n",
              "      <td>0</td>\n",
              "      <td>text/html</td>\n",
              "      <td>18</td>\n",
              "      <td>76</td>\n",
              "      <td>1</td>\n",
              "      <td>0</td>\n",
              "      <td>38.0</td>\n",
              "      <td>22646</td>\n",
              "    </tr>\n",
              "  </tbody>\n",
              "</table>\n",
              "</div>"
            ],
            "text/plain": [
              "                                    date  ... chars_in_body\n",
              "0         Wed, 1 Nov 2017 15:51:21 +0530  ...          4505\n",
              "1        Thu, 05 Mar 2015 20:47:22 -0500  ...         32949\n",
              "2        Thu, 21 Apr 2016 14:53:08 +0530  ...          1707\n",
              "3  Tue, 06 Feb 2018 12:12:08 +0000 (UTC)  ...         76686\n",
              "4        Tue, 21 May 2019 05:56:27 -0700  ...         22646\n",
              "\n",
              "[5 rows x 12 columns]"
            ]
          },
          "metadata": {},
          "execution_count": 6
        }
      ]
    },
    {
      "cell_type": "code",
      "metadata": {
        "colab": {
          "base_uri": "https://localhost:8080/",
          "height": 564
        },
        "id": "2uDDmnYNOELO",
        "outputId": "a3ec4e70-a976-431d-ade3-aa0b63ef3152"
      },
      "source": [
        "train_df.head()"
      ],
      "execution_count": null,
      "outputs": [
        {
          "output_type": "execute_result",
          "data": {
            "text/html": [
              "<div>\n",
              "<style scoped>\n",
              "    .dataframe tbody tr th:only-of-type {\n",
              "        vertical-align: middle;\n",
              "    }\n",
              "\n",
              "    .dataframe tbody tr th {\n",
              "        vertical-align: top;\n",
              "    }\n",
              "\n",
              "    .dataframe thead th {\n",
              "        text-align: right;\n",
              "    }\n",
              "</style>\n",
              "<table border=\"1\" class=\"dataframe\">\n",
              "  <thead>\n",
              "    <tr style=\"text-align: right;\">\n",
              "      <th></th>\n",
              "      <th>date</th>\n",
              "      <th>org</th>\n",
              "      <th>tld</th>\n",
              "      <th>ccs</th>\n",
              "      <th>bcced</th>\n",
              "      <th>mail_type</th>\n",
              "      <th>images</th>\n",
              "      <th>urls</th>\n",
              "      <th>salutations</th>\n",
              "      <th>designation</th>\n",
              "      <th>chars_in_subject</th>\n",
              "      <th>chars_in_body</th>\n",
              "      <th>label</th>\n",
              "    </tr>\n",
              "  </thead>\n",
              "  <tbody>\n",
              "    <tr>\n",
              "      <th>0</th>\n",
              "      <td>Mon, 6 Nov 2017 11:13:45 +0100</td>\n",
              "      <td>reply</td>\n",
              "      <td>ebay.in</td>\n",
              "      <td>0</td>\n",
              "      <td>0</td>\n",
              "      <td>multipart/alternative</td>\n",
              "      <td>35</td>\n",
              "      <td>120</td>\n",
              "      <td>0</td>\n",
              "      <td>0</td>\n",
              "      <td>49.0</td>\n",
              "      <td>80027</td>\n",
              "      <td>2</td>\n",
              "    </tr>\n",
              "    <tr>\n",
              "      <th>1</th>\n",
              "      <td>Wed, 14 Feb 2018 11:00:16 -0000</td>\n",
              "      <td>edm</td>\n",
              "      <td>efinmail.com</td>\n",
              "      <td>0</td>\n",
              "      <td>0</td>\n",
              "      <td>multipart/alternative</td>\n",
              "      <td>1</td>\n",
              "      <td>7</td>\n",
              "      <td>0</td>\n",
              "      <td>0</td>\n",
              "      <td>107.0</td>\n",
              "      <td>2961</td>\n",
              "      <td>1</td>\n",
              "    </tr>\n",
              "    <tr>\n",
              "      <th>2</th>\n",
              "      <td>Wed, 6 Jul 2016 19:53:37 +0000</td>\n",
              "      <td>usebackpack</td>\n",
              "      <td>com</td>\n",
              "      <td>0</td>\n",
              "      <td>0</td>\n",
              "      <td>text/html</td>\n",
              "      <td>4</td>\n",
              "      <td>17</td>\n",
              "      <td>0</td>\n",
              "      <td>0</td>\n",
              "      <td>35.0</td>\n",
              "      <td>25149</td>\n",
              "      <td>1</td>\n",
              "    </tr>\n",
              "    <tr>\n",
              "      <th>3</th>\n",
              "      <td>Fri, 11 Oct 2019 11:25:40 +0200</td>\n",
              "      <td>granular</td>\n",
              "      <td>ai</td>\n",
              "      <td>0</td>\n",
              "      <td>0</td>\n",
              "      <td>multipart/mixed</td>\n",
              "      <td>0</td>\n",
              "      <td>0</td>\n",
              "      <td>0</td>\n",
              "      <td>0</td>\n",
              "      <td>15.0</td>\n",
              "      <td>635296</td>\n",
              "      <td>1</td>\n",
              "    </tr>\n",
              "    <tr>\n",
              "      <th>4</th>\n",
              "      <td>Tue, 07 Nov 2017 11:07:18 +0000 (UTC)</td>\n",
              "      <td>github</td>\n",
              "      <td>com</td>\n",
              "      <td>1</td>\n",
              "      <td>0</td>\n",
              "      <td>multipart/alternative</td>\n",
              "      <td>2</td>\n",
              "      <td>11</td>\n",
              "      <td>0</td>\n",
              "      <td>0</td>\n",
              "      <td>49.0</td>\n",
              "      <td>2355</td>\n",
              "      <td>1</td>\n",
              "    </tr>\n",
              "  </tbody>\n",
              "</table>\n",
              "</div>"
            ],
            "text/plain": [
              "                                    date          org  ... chars_in_body  label\n",
              "0         Mon, 6 Nov 2017 11:13:45 +0100        reply  ...         80027      2\n",
              "1        Wed, 14 Feb 2018 11:00:16 -0000          edm  ...          2961      1\n",
              "2         Wed, 6 Jul 2016 19:53:37 +0000  usebackpack  ...         25149      1\n",
              "3        Fri, 11 Oct 2019 11:25:40 +0200     granular  ...        635296      1\n",
              "4  Tue, 07 Nov 2017 11:07:18 +0000 (UTC)       github  ...          2355      1\n",
              "\n",
              "[5 rows x 13 columns]"
            ]
          },
          "metadata": {},
          "execution_count": 7
        }
      ]
    },
    {
      "cell_type": "markdown",
      "metadata": {
        "id": "a-3OJtwPr7NA"
      },
      "source": [
        "Both datasets were properly imported"
      ]
    },
    {
      "cell_type": "markdown",
      "metadata": {
        "id": "t7UC6SulvD62"
      },
      "source": [
        "###Preliminary work"
      ]
    },
    {
      "cell_type": "code",
      "metadata": {
        "id": "3uKXfW3lOErt"
      },
      "source": [
        "#We can drop all the rows which have NAs\n",
        "train_df.dropna(axis=0, inplace=True)\n",
        "train_df.set_index(np.arange(len(train_df)), inplace=True)\n"
      ],
      "execution_count": null,
      "outputs": []
    },
    {
      "cell_type": "markdown",
      "metadata": {
        "id": "RpWdESHsUyEQ"
      },
      "source": [
        "#Exploratory analysis and data pre-processing"
      ]
    },
    {
      "cell_type": "markdown",
      "metadata": {
        "id": "GIWEEBkhuIsZ"
      },
      "source": [
        "##Exploratory analysis"
      ]
    },
    {
      "cell_type": "code",
      "metadata": {
        "colab": {
          "base_uri": "https://localhost:8080/"
        },
        "id": "EH-hOz9wUqf8",
        "outputId": "e6825749-4fe6-41b5-91df-5d3efb8f4655"
      },
      "source": [
        "train_df.head()"
      ],
      "execution_count": null,
      "outputs": [
        {
          "output_type": "execute_result",
          "data": {
            "text/html": [
              "<div>\n",
              "<style scoped>\n",
              "    .dataframe tbody tr th:only-of-type {\n",
              "        vertical-align: middle;\n",
              "    }\n",
              "\n",
              "    .dataframe tbody tr th {\n",
              "        vertical-align: top;\n",
              "    }\n",
              "\n",
              "    .dataframe thead th {\n",
              "        text-align: right;\n",
              "    }\n",
              "</style>\n",
              "<table border=\"1\" class=\"dataframe\">\n",
              "  <thead>\n",
              "    <tr style=\"text-align: right;\">\n",
              "      <th></th>\n",
              "      <th>date</th>\n",
              "      <th>org</th>\n",
              "      <th>tld</th>\n",
              "      <th>ccs</th>\n",
              "      <th>bcced</th>\n",
              "      <th>mail_type</th>\n",
              "      <th>images</th>\n",
              "      <th>urls</th>\n",
              "      <th>salutations</th>\n",
              "      <th>designation</th>\n",
              "      <th>chars_in_subject</th>\n",
              "      <th>chars_in_body</th>\n",
              "      <th>label</th>\n",
              "    </tr>\n",
              "  </thead>\n",
              "  <tbody>\n",
              "    <tr>\n",
              "      <th>0</th>\n",
              "      <td>Mon, 6 Nov 2017 11:13:45 +0100</td>\n",
              "      <td>reply</td>\n",
              "      <td>ebay.in</td>\n",
              "      <td>0</td>\n",
              "      <td>0</td>\n",
              "      <td>multipart/alternative</td>\n",
              "      <td>35</td>\n",
              "      <td>120</td>\n",
              "      <td>0</td>\n",
              "      <td>0</td>\n",
              "      <td>49.0</td>\n",
              "      <td>80027</td>\n",
              "      <td>2</td>\n",
              "    </tr>\n",
              "    <tr>\n",
              "      <th>1</th>\n",
              "      <td>Wed, 14 Feb 2018 11:00:16 -0000</td>\n",
              "      <td>edm</td>\n",
              "      <td>efinmail.com</td>\n",
              "      <td>0</td>\n",
              "      <td>0</td>\n",
              "      <td>multipart/alternative</td>\n",
              "      <td>1</td>\n",
              "      <td>7</td>\n",
              "      <td>0</td>\n",
              "      <td>0</td>\n",
              "      <td>107.0</td>\n",
              "      <td>2961</td>\n",
              "      <td>1</td>\n",
              "    </tr>\n",
              "    <tr>\n",
              "      <th>2</th>\n",
              "      <td>Wed, 6 Jul 2016 19:53:37 +0000</td>\n",
              "      <td>usebackpack</td>\n",
              "      <td>com</td>\n",
              "      <td>0</td>\n",
              "      <td>0</td>\n",
              "      <td>text/html</td>\n",
              "      <td>4</td>\n",
              "      <td>17</td>\n",
              "      <td>0</td>\n",
              "      <td>0</td>\n",
              "      <td>35.0</td>\n",
              "      <td>25149</td>\n",
              "      <td>1</td>\n",
              "    </tr>\n",
              "    <tr>\n",
              "      <th>3</th>\n",
              "      <td>Fri, 11 Oct 2019 11:25:40 +0200</td>\n",
              "      <td>granular</td>\n",
              "      <td>ai</td>\n",
              "      <td>0</td>\n",
              "      <td>0</td>\n",
              "      <td>multipart/mixed</td>\n",
              "      <td>0</td>\n",
              "      <td>0</td>\n",
              "      <td>0</td>\n",
              "      <td>0</td>\n",
              "      <td>15.0</td>\n",
              "      <td>635296</td>\n",
              "      <td>1</td>\n",
              "    </tr>\n",
              "    <tr>\n",
              "      <th>4</th>\n",
              "      <td>Tue, 07 Nov 2017 11:07:18 +0000 (UTC)</td>\n",
              "      <td>github</td>\n",
              "      <td>com</td>\n",
              "      <td>1</td>\n",
              "      <td>0</td>\n",
              "      <td>multipart/alternative</td>\n",
              "      <td>2</td>\n",
              "      <td>11</td>\n",
              "      <td>0</td>\n",
              "      <td>0</td>\n",
              "      <td>49.0</td>\n",
              "      <td>2355</td>\n",
              "      <td>1</td>\n",
              "    </tr>\n",
              "  </tbody>\n",
              "</table>\n",
              "</div>"
            ],
            "text/plain": [
              "                                    date          org  ... chars_in_body  label\n",
              "0         Mon, 6 Nov 2017 11:13:45 +0100        reply  ...         80027      2\n",
              "1        Wed, 14 Feb 2018 11:00:16 -0000          edm  ...          2961      1\n",
              "2         Wed, 6 Jul 2016 19:53:37 +0000  usebackpack  ...         25149      1\n",
              "3        Fri, 11 Oct 2019 11:25:40 +0200     granular  ...        635296      1\n",
              "4  Tue, 07 Nov 2017 11:07:18 +0000 (UTC)       github  ...          2355      1\n",
              "\n",
              "[5 rows x 13 columns]"
            ]
          },
          "metadata": {},
          "execution_count": 8
        }
      ]
    },
    {
      "cell_type": "code",
      "metadata": {
        "colab": {
          "base_uri": "https://localhost:8080/"
        },
        "id": "7PaYNXxYUquA",
        "outputId": "353103f4-5677-4d16-f901-62f1c2c9cfd9"
      },
      "source": [
        "train_df.describe()"
      ],
      "execution_count": null,
      "outputs": [
        {
          "output_type": "execute_result",
          "data": {
            "text/html": [
              "<div>\n",
              "<style scoped>\n",
              "    .dataframe tbody tr th:only-of-type {\n",
              "        vertical-align: middle;\n",
              "    }\n",
              "\n",
              "    .dataframe tbody tr th {\n",
              "        vertical-align: top;\n",
              "    }\n",
              "\n",
              "    .dataframe thead th {\n",
              "        text-align: right;\n",
              "    }\n",
              "</style>\n",
              "<table border=\"1\" class=\"dataframe\">\n",
              "  <thead>\n",
              "    <tr style=\"text-align: right;\">\n",
              "      <th></th>\n",
              "      <th>ccs</th>\n",
              "      <th>bcced</th>\n",
              "      <th>images</th>\n",
              "      <th>urls</th>\n",
              "      <th>salutations</th>\n",
              "      <th>designation</th>\n",
              "      <th>chars_in_subject</th>\n",
              "      <th>chars_in_body</th>\n",
              "      <th>label</th>\n",
              "    </tr>\n",
              "  </thead>\n",
              "  <tbody>\n",
              "    <tr>\n",
              "      <th>count</th>\n",
              "      <td>76639.000000</td>\n",
              "      <td>76639.000000</td>\n",
              "      <td>76639.000000</td>\n",
              "      <td>76639.000000</td>\n",
              "      <td>76639.000000</td>\n",
              "      <td>76639.000000</td>\n",
              "      <td>76639.000000</td>\n",
              "      <td>7.663900e+04</td>\n",
              "      <td>76639.000000</td>\n",
              "    </tr>\n",
              "    <tr>\n",
              "      <th>mean</th>\n",
              "      <td>0.493013</td>\n",
              "      <td>0.003001</td>\n",
              "      <td>8.185441</td>\n",
              "      <td>35.594032</td>\n",
              "      <td>0.403215</td>\n",
              "      <td>0.107543</td>\n",
              "      <td>51.295098</td>\n",
              "      <td>2.037541e+05</td>\n",
              "      <td>1.593810</td>\n",
              "    </tr>\n",
              "    <tr>\n",
              "      <th>std</th>\n",
              "      <td>3.249022</td>\n",
              "      <td>0.054700</td>\n",
              "      <td>312.408861</td>\n",
              "      <td>99.930351</td>\n",
              "      <td>0.490546</td>\n",
              "      <td>0.309805</td>\n",
              "      <td>33.744507</td>\n",
              "      <td>1.929287e+06</td>\n",
              "      <td>1.731882</td>\n",
              "    </tr>\n",
              "    <tr>\n",
              "      <th>min</th>\n",
              "      <td>0.000000</td>\n",
              "      <td>0.000000</td>\n",
              "      <td>0.000000</td>\n",
              "      <td>0.000000</td>\n",
              "      <td>0.000000</td>\n",
              "      <td>0.000000</td>\n",
              "      <td>0.000000</td>\n",
              "      <td>4.000000e+00</td>\n",
              "      <td>0.000000</td>\n",
              "    </tr>\n",
              "    <tr>\n",
              "      <th>25%</th>\n",
              "      <td>0.000000</td>\n",
              "      <td>0.000000</td>\n",
              "      <td>0.000000</td>\n",
              "      <td>4.000000</td>\n",
              "      <td>0.000000</td>\n",
              "      <td>0.000000</td>\n",
              "      <td>32.000000</td>\n",
              "      <td>5.144000e+03</td>\n",
              "      <td>1.000000</td>\n",
              "    </tr>\n",
              "    <tr>\n",
              "      <th>50%</th>\n",
              "      <td>0.000000</td>\n",
              "      <td>0.000000</td>\n",
              "      <td>2.000000</td>\n",
              "      <td>18.000000</td>\n",
              "      <td>0.000000</td>\n",
              "      <td>0.000000</td>\n",
              "      <td>42.000000</td>\n",
              "      <td>2.138200e+04</td>\n",
              "      <td>1.000000</td>\n",
              "    </tr>\n",
              "    <tr>\n",
              "      <th>75%</th>\n",
              "      <td>0.000000</td>\n",
              "      <td>0.000000</td>\n",
              "      <td>9.000000</td>\n",
              "      <td>45.000000</td>\n",
              "      <td>1.000000</td>\n",
              "      <td>0.000000</td>\n",
              "      <td>62.000000</td>\n",
              "      <td>4.738700e+04</td>\n",
              "      <td>2.000000</td>\n",
              "    </tr>\n",
              "    <tr>\n",
              "      <th>max</th>\n",
              "      <td>179.000000</td>\n",
              "      <td>1.000000</td>\n",
              "      <td>83481.000000</td>\n",
              "      <td>21540.000000</td>\n",
              "      <td>1.000000</td>\n",
              "      <td>1.000000</td>\n",
              "      <td>606.000000</td>\n",
              "      <td>7.438108e+07</td>\n",
              "      <td>7.000000</td>\n",
              "    </tr>\n",
              "  </tbody>\n",
              "</table>\n",
              "</div>"
            ],
            "text/plain": [
              "                ccs         bcced  ...  chars_in_body         label\n",
              "count  76639.000000  76639.000000  ...   7.663900e+04  76639.000000\n",
              "mean       0.493013      0.003001  ...   2.037541e+05      1.593810\n",
              "std        3.249022      0.054700  ...   1.929287e+06      1.731882\n",
              "min        0.000000      0.000000  ...   4.000000e+00      0.000000\n",
              "25%        0.000000      0.000000  ...   5.144000e+03      1.000000\n",
              "50%        0.000000      0.000000  ...   2.138200e+04      1.000000\n",
              "75%        0.000000      0.000000  ...   4.738700e+04      2.000000\n",
              "max      179.000000      1.000000  ...   7.438108e+07      7.000000\n",
              "\n",
              "[8 rows x 9 columns]"
            ]
          },
          "metadata": {},
          "execution_count": 9
        }
      ]
    },
    {
      "cell_type": "markdown",
      "metadata": {
        "id": "xaO8yVsgTxC6"
      },
      "source": [
        "Reminders:\n",
        "\n",
        "0:Updates: banks, insurance, ...//\n",
        "1: Personal: Mails from personal network //\n",
        "2: Promotions: Promotional/advertisement mails //\n",
        "3: Forums: Mails from professional groups //\n",
        "4: Purchases: Updates about purchases //\n",
        "5: Travel: Advertisement about travel and tourism //\n",
        "6: Spam: Spam mails //\n",
        "7: Social: Mails from social networks "
      ]
    },
    {
      "cell_type": "code",
      "metadata": {
        "colab": {
          "base_uri": "https://localhost:8080/"
        },
        "id": "DKlRbgMqOE5I",
        "outputId": "f63a8e91-16cc-4ea7-b940-3e6d22548250"
      },
      "source": [
        "#Lets view the repartion of the emails labels\n",
        "sns.catplot(x=\"label\", kind=\"count\", palette=\"ch:.25\", data=train_df)"
      ],
      "execution_count": null,
      "outputs": [
        {
          "output_type": "execute_result",
          "data": {
            "text/plain": [
              "<seaborn.axisgrid.FacetGrid at 0x7fbd19194ad0>"
            ]
          },
          "metadata": {},
          "execution_count": 10
        },
        {
          "output_type": "display_data",
          "data": {
            "image/png": "[encoded data removed]",
            "text/plain": [
              "<Figure size 360x360 with 1 Axes>"
            ]
          },
          "metadata": {
            "needs_background": "light"
          }
        }
      ]
    },
    {
      "cell_type": "code",
      "metadata": {
        "colab": {
          "base_uri": "https://localhost:8080/"
        },
        "id": "WVkHeAFgTmXj",
        "outputId": "a78e4ccb-47e4-498d-ecc4-745f25ec4b03"
      },
      "source": [
        "#Number of characters distribution\n",
        "#sns.displot(train_df, x=\"chars_in_body\", kind=\"cdf\")\n",
        "plt.xlim(0,400)\n",
        "sns.ecdfplot(data=train_df, x=\"chars_in_subject\")\n"
      ],
      "execution_count": null,
      "outputs": [
        {
          "output_type": "execute_result",
          "data": {
            "text/plain": [
              "<matplotlib.axes._subplots.AxesSubplot at 0x7fbd0fb7c550>"
            ]
          },
          "metadata": {},
          "execution_count": 11
        },
        {
          "output_type": "display_data",
          "data": {
            "image/png": "[encoded data removed]",
            "text/plain": [
              "<Figure size 432x288 with 1 Axes>"
            ]
          },
          "metadata": {
            "needs_background": "light"
          }
        }
      ]
    },
    {
      "cell_type": "code",
      "metadata": {
        "id": "nfaVdfhW0E4P"
      },
      "source": [
        ""
      ],
      "execution_count": null,
      "outputs": []
    },
    {
      "cell_type": "code",
      "metadata": {
        "colab": {
          "base_uri": "https://localhost:8080/"
        },
        "id": "asQzI8BJy_rx",
        "outputId": "5542d5c0-3ad8-4135-eed6-ba5e09af2a0a"
      },
      "source": [
        "print(len(train_df[train_df.chars_in_subject > 300]))"
      ],
      "execution_count": null,
      "outputs": [
        {
          "output_type": "stream",
          "name": "stdout",
          "text": [
            "45\n"
          ]
        }
      ]
    },
    {
      "cell_type": "code",
      "metadata": {
        "colab": {
          "base_uri": "https://localhost:8080/"
        },
        "id": "KQiGCWFjU4dK",
        "outputId": "c1f9baab-b1fb-4d63-941c-6752438cebfe"
      },
      "source": [
        "#Organisations popularity\n",
        "print(train_df['org'].value_counts())"
      ],
      "execution_count": null,
      "outputs": [
        {
          "output_type": "stream",
          "name": "stdout",
          "text": [
            "iiitd             19938\n",
            "usebackpack        5070\n",
            "google             3890\n",
            "amazon             3123\n",
            "linkedin           2371\n",
            "                  ...  \n",
            "stockroom             1\n",
            "meeshkan              1\n",
            "mea                   1\n",
            "mobikwik              1\n",
            "kdc9otdk91qkqg        1\n",
            "Name: org, Length: 1024, dtype: int64\n"
          ]
        }
      ]
    },
    {
      "cell_type": "code",
      "metadata": {
        "colab": {
          "base_uri": "https://localhost:8080/"
        },
        "id": "GhTNcnZoVMZ1",
        "outputId": "eada05df-9c63-4b82-ae20-4902da87a798"
      },
      "source": [
        "#Distribution of the number of images in the emails\n",
        "df_1 = train_df[['chars_in_body']]\n",
        "ax = sns.boxplot(data=df_1, orient=\"h\", palette=\"Set2\") # There are a few outliers"
      ],
      "execution_count": null,
      "outputs": [
        {
          "output_type": "display_data",
          "data": {
            "image/png": "[encoded data removed]",
            "text/plain": [
              "<Figure size 432x288 with 1 Axes>"
            ]
          },
          "metadata": {
            "needs_background": "light"
          }
        }
      ]
    },
    {
      "cell_type": "code",
      "metadata": {
        "id": "H1EXdxZpVluu"
      },
      "source": [
        "for col in train_df.select_dtypes(include=['object','category']).columns.tolist():\n",
        "        train_df[col]=train_df[col].str.lower()"
      ],
      "execution_count": null,
      "outputs": []
    },
    {
      "cell_type": "markdown",
      "metadata": {
        "id": "xUfTrRj2uXVc"
      },
      "source": [
        "##Data pre-processing"
      ]
    },
    {
      "cell_type": "markdown",
      "metadata": {
        "id": "XYr87a1rPW-e"
      },
      "source": [
        "###Date change"
      ]
    },
    {
      "cell_type": "code",
      "metadata": {
        "id": "r4iZooXMM3hY"
      },
      "source": [
        "#convert the date format into respective columns\n",
        "# Retrieve day, month, time, year, number of day from the feature \"date\"\n",
        "#function that converts all the values present in the 'date' column into a datetime value\n",
        "\n",
        "import datetime\n",
        "import re \n",
        "\n",
        "def date(date_string, i):\n",
        "    \n",
        "    date_string = re.sub(\"[\\(\\[].*?[\\)\\]]\", \"\", str(date_string)).rstrip()\n",
        "    if date_string[-4:] == '0580':\n",
        "        date_string = date_string[:-5].rstrip()\n",
        "        \n",
        "    try:\n",
        "        x = datetime.datetime.strptime(date_string, '%a, %d %b %Y %H:%M:%S %z')\n",
        "        return x\n",
        "    except ValueError:\n",
        "        \n",
        "        try:\n",
        "            x = datetime.datetime.strptime(date_string, '%d %b %Y %H:%M:%S %z')\n",
        "            return x\n",
        "        except ValueError:\n",
        "            \n",
        "            try:\n",
        "                x = datetime.datetime.strptime(date_string, '%a, %d %b %Y %H:%M:%S')\n",
        "                return x\n",
        "            except ValueError:\n",
        "                \n",
        "                try:\n",
        "                    x = datetime.datetime.strptime(date_string, '%a, %d %b %Y %H:%M:%S %Z')\n",
        "                    return x\n",
        "                except ValueError:\n",
        "                    try:\n",
        "                        x = datetime.datetime.strptime(date_string, '%d %b %Y %H:%M:%S')\n",
        "                        return x\n",
        "                    except ValueError:\n",
        "                        return i"
      ],
      "execution_count": null,
      "outputs": []
    },
    {
      "cell_type": "code",
      "metadata": {
        "id": "zc7UVHrMPV9k"
      },
      "source": [
        "#create a list with datetime values \n",
        "\n",
        "datetime_type = []\n",
        "for i in range(len(train_df)):\n",
        "    datetime_type.append(date(train_df['date'][i], i))"
      ],
      "execution_count": null,
      "outputs": []
    },
    {
      "cell_type": "code",
      "metadata": {
        "colab": {
          "base_uri": "https://localhost:8080/"
        },
        "id": "mK_p1LYoPb7R",
        "outputId": "cfbe310d-7a5a-4d49-af15-c18bb43cb9e5"
      },
      "source": [
        "#find which values couldn't be converted \n",
        "\n",
        "to_drop = []\n",
        "for i in range(len(datetime_type)):\n",
        "    if type(datetime_type[i]) != datetime.datetime:\n",
        "        to_drop.append(i)\n",
        "to_drop"
      ],
      "execution_count": null,
      "outputs": [
        {
          "output_type": "execute_result",
          "data": {
            "text/plain": [
              "[40409, 65003]"
            ]
          },
          "metadata": {},
          "execution_count": 18
        }
      ]
    },
    {
      "cell_type": "code",
      "metadata": {
        "id": "jocvPKlfPdsx"
      },
      "source": [
        "#drop the values that couldn't be converted\n",
        "\n",
        "train_df.drop(to_drop, axis=0, inplace=True)\n",
        "train_df.set_index(np.arange(len(train_df)), inplace=True)\n",
        "k = 0\n",
        "for i in range(len(to_drop)):\n",
        "    datetime_type.pop(to_drop[i]-k)\n",
        "    k += 1"
      ],
      "execution_count": null,
      "outputs": []
    },
    {
      "cell_type": "code",
      "metadata": {
        "colab": {
          "base_uri": "https://localhost:8080/"
        },
        "id": "s65wqy7hPfhT",
        "outputId": "9a916f0b-9134-4046-f2ba-3300fe9d0a4d"
      },
      "source": [
        "#create a new column with the datetime values using the previous created list datetime\n",
        "\n",
        "#X['proper_date'] = np.zeros(len(X))\n",
        "for i in range(len(train_df)):\n",
        "    train_df['date'][i] = datetime_type[i]"
      ],
      "execution_count": null,
      "outputs": [
        {
          "output_type": "stream",
          "name": "stderr",
          "text": [
            "/usr/local/lib/python3.7/dist-packages/ipykernel_launcher.py:5: SettingWithCopyWarning: \n",
            "A value is trying to be set on a copy of a slice from a DataFrame\n",
            "\n",
            "See the caveats in the documentation: https://pandas.pydata.org/pandas-docs/stable/user_guide/indexing.html#returning-a-view-versus-a-copy\n",
            "  \"\"\"\n"
          ]
        }
      ]
    },
    {
      "cell_type": "code",
      "metadata": {
        "id": "13SLUAVnPhu9"
      },
      "source": [
        "#split-up time information\n",
        "#SECONDS EXCLUDED BECAUSE NOT USEFUL - CHECK IF OTHER VARIABLES ARE USEFUL\n",
        "\n",
        "train_df['year'] = np.zeros(len(train_df))\n",
        "train_df['month'] = np.zeros(len(train_df))\n",
        "#train_df['day'] = np.zeros(len(train_df))\n",
        "train_df['day_of_week'] = np.zeros(len(train_df))\n",
        "#train_df['hour'] = np.zeros(len(train_df))\n",
        "#train_df['minute'] = np.zeros(len(train_df))\n",
        "#train_df['timezone'] = np.zeros(len(train_df))"
      ],
      "execution_count": null,
      "outputs": []
    },
    {
      "cell_type": "code",
      "metadata": {
        "colab": {
          "base_uri": "https://localhost:8080/"
        },
        "id": "kNe6lF9mYW_O",
        "outputId": "556a9377-452c-49dc-83d8-017122a61e3e"
      },
      "source": [
        "#assign values to the new variables \n",
        "\n",
        "for i in range(len(train_df)):\n",
        "    train_df['year'][i] =  train_df['date'][i].year\n",
        "    train_df['month'][i] =  train_df['date'][i].month\n",
        "    #train_df['day'][i] =  train_df['date'][i].day\n",
        "    #train_df['hour'][i] =  train_df['date'][i].hour\n",
        "    #train_df['minute'][i] =  train_df['date'][i].minute\n",
        "    #train_df['timezone'][i] =  train_df['date'][i].tzinfo\n",
        "    train_df['day_of_week'][i] = train_df['date'][i].weekday()"
      ],
      "execution_count": null,
      "outputs": [
        {
          "output_type": "stream",
          "name": "stderr",
          "text": [
            "/usr/local/lib/python3.7/dist-packages/ipykernel_launcher.py:4: SettingWithCopyWarning: \n",
            "A value is trying to be set on a copy of a slice from a DataFrame\n",
            "\n",
            "See the caveats in the documentation: https://pandas.pydata.org/pandas-docs/stable/user_guide/indexing.html#returning-a-view-versus-a-copy\n",
            "  after removing the cwd from sys.path.\n",
            "/usr/local/lib/python3.7/dist-packages/ipykernel_launcher.py:5: SettingWithCopyWarning: \n",
            "A value is trying to be set on a copy of a slice from a DataFrame\n",
            "\n",
            "See the caveats in the documentation: https://pandas.pydata.org/pandas-docs/stable/user_guide/indexing.html#returning-a-view-versus-a-copy\n",
            "  \"\"\"\n",
            "/usr/local/lib/python3.7/dist-packages/ipykernel_launcher.py:10: SettingWithCopyWarning: \n",
            "A value is trying to be set on a copy of a slice from a DataFrame\n",
            "\n",
            "See the caveats in the documentation: https://pandas.pydata.org/pandas-docs/stable/user_guide/indexing.html#returning-a-view-versus-a-copy\n",
            "  # Remove the CWD from sys.path while we load stuff.\n"
          ]
        }
      ]
    },
    {
      "cell_type": "code",
      "metadata": {
        "id": "yRMv-HbRPllR"
      },
      "source": [
        "#drop datetime\n",
        "\n",
        "train_df = train_df.drop('date', axis = 1)"
      ],
      "execution_count": null,
      "outputs": []
    },
    {
      "cell_type": "code",
      "metadata": {
        "colab": {
          "base_uri": "https://localhost:8080/"
        },
        "id": "i0DNwzL4PpBk",
        "outputId": "18befa09-9e79-4a4c-eba3-b414d911926e"
      },
      "source": [
        "train_df"
      ],
      "execution_count": null,
      "outputs": [
        {
          "output_type": "execute_result",
          "data": {
            "text/html": [
              "<div>\n",
              "<style scoped>\n",
              "    .dataframe tbody tr th:only-of-type {\n",
              "        vertical-align: middle;\n",
              "    }\n",
              "\n",
              "    .dataframe tbody tr th {\n",
              "        vertical-align: top;\n",
              "    }\n",
              "\n",
              "    .dataframe thead th {\n",
              "        text-align: right;\n",
              "    }\n",
              "</style>\n",
              "<table border=\"1\" class=\"dataframe\">\n",
              "  <thead>\n",
              "    <tr style=\"text-align: right;\">\n",
              "      <th></th>\n",
              "      <th>org</th>\n",
              "      <th>tld</th>\n",
              "      <th>ccs</th>\n",
              "      <th>bcced</th>\n",
              "      <th>mail_type</th>\n",
              "      <th>images</th>\n",
              "      <th>urls</th>\n",
              "      <th>salutations</th>\n",
              "      <th>designation</th>\n",
              "      <th>chars_in_subject</th>\n",
              "      <th>chars_in_body</th>\n",
              "      <th>label</th>\n",
              "      <th>year</th>\n",
              "      <th>month</th>\n",
              "      <th>day_of_week</th>\n",
              "    </tr>\n",
              "  </thead>\n",
              "  <tbody>\n",
              "    <tr>\n",
              "      <th>0</th>\n",
              "      <td>reply</td>\n",
              "      <td>ebay.in</td>\n",
              "      <td>0</td>\n",
              "      <td>0</td>\n",
              "      <td>multipart/alternative</td>\n",
              "      <td>35</td>\n",
              "      <td>120</td>\n",
              "      <td>0</td>\n",
              "      <td>0</td>\n",
              "      <td>49.0</td>\n",
              "      <td>80027</td>\n",
              "      <td>2</td>\n",
              "      <td>2017.0</td>\n",
              "      <td>11.0</td>\n",
              "      <td>0.0</td>\n",
              "    </tr>\n",
              "    <tr>\n",
              "      <th>1</th>\n",
              "      <td>edm</td>\n",
              "      <td>efinmail.com</td>\n",
              "      <td>0</td>\n",
              "      <td>0</td>\n",
              "      <td>multipart/alternative</td>\n",
              "      <td>1</td>\n",
              "      <td>7</td>\n",
              "      <td>0</td>\n",
              "      <td>0</td>\n",
              "      <td>107.0</td>\n",
              "      <td>2961</td>\n",
              "      <td>1</td>\n",
              "      <td>2018.0</td>\n",
              "      <td>2.0</td>\n",
              "      <td>2.0</td>\n",
              "    </tr>\n",
              "    <tr>\n",
              "      <th>2</th>\n",
              "      <td>usebackpack</td>\n",
              "      <td>com</td>\n",
              "      <td>0</td>\n",
              "      <td>0</td>\n",
              "      <td>text/html</td>\n",
              "      <td>4</td>\n",
              "      <td>17</td>\n",
              "      <td>0</td>\n",
              "      <td>0</td>\n",
              "      <td>35.0</td>\n",
              "      <td>25149</td>\n",
              "      <td>1</td>\n",
              "      <td>2016.0</td>\n",
              "      <td>7.0</td>\n",
              "      <td>2.0</td>\n",
              "    </tr>\n",
              "    <tr>\n",
              "      <th>3</th>\n",
              "      <td>granular</td>\n",
              "      <td>ai</td>\n",
              "      <td>0</td>\n",
              "      <td>0</td>\n",
              "      <td>multipart/mixed</td>\n",
              "      <td>0</td>\n",
              "      <td>0</td>\n",
              "      <td>0</td>\n",
              "      <td>0</td>\n",
              "      <td>15.0</td>\n",
              "      <td>635296</td>\n",
              "      <td>1</td>\n",
              "      <td>2019.0</td>\n",
              "      <td>10.0</td>\n",
              "      <td>4.0</td>\n",
              "    </tr>\n",
              "    <tr>\n",
              "      <th>4</th>\n",
              "      <td>github</td>\n",
              "      <td>com</td>\n",
              "      <td>1</td>\n",
              "      <td>0</td>\n",
              "      <td>multipart/alternative</td>\n",
              "      <td>2</td>\n",
              "      <td>11</td>\n",
              "      <td>0</td>\n",
              "      <td>0</td>\n",
              "      <td>49.0</td>\n",
              "      <td>2355</td>\n",
              "      <td>1</td>\n",
              "      <td>2017.0</td>\n",
              "      <td>11.0</td>\n",
              "      <td>1.0</td>\n",
              "    </tr>\n",
              "    <tr>\n",
              "      <th>...</th>\n",
              "      <td>...</td>\n",
              "      <td>...</td>\n",
              "      <td>...</td>\n",
              "      <td>...</td>\n",
              "      <td>...</td>\n",
              "      <td>...</td>\n",
              "      <td>...</td>\n",
              "      <td>...</td>\n",
              "      <td>...</td>\n",
              "      <td>...</td>\n",
              "      <td>...</td>\n",
              "      <td>...</td>\n",
              "      <td>...</td>\n",
              "      <td>...</td>\n",
              "      <td>...</td>\n",
              "    </tr>\n",
              "    <tr>\n",
              "      <th>76632</th>\n",
              "      <td>amazon</td>\n",
              "      <td>in</td>\n",
              "      <td>0</td>\n",
              "      <td>0</td>\n",
              "      <td>multipart/mixed</td>\n",
              "      <td>0</td>\n",
              "      <td>0</td>\n",
              "      <td>0</td>\n",
              "      <td>0</td>\n",
              "      <td>15.0</td>\n",
              "      <td>4</td>\n",
              "      <td>1</td>\n",
              "      <td>2017.0</td>\n",
              "      <td>7.0</td>\n",
              "      <td>2.0</td>\n",
              "    </tr>\n",
              "    <tr>\n",
              "      <th>76633</th>\n",
              "      <td>quora</td>\n",
              "      <td>com</td>\n",
              "      <td>0</td>\n",
              "      <td>0</td>\n",
              "      <td>multipart/alternative</td>\n",
              "      <td>0</td>\n",
              "      <td>88</td>\n",
              "      <td>1</td>\n",
              "      <td>1</td>\n",
              "      <td>98.0</td>\n",
              "      <td>80913</td>\n",
              "      <td>1</td>\n",
              "      <td>2015.0</td>\n",
              "      <td>4.0</td>\n",
              "      <td>1.0</td>\n",
              "    </tr>\n",
              "    <tr>\n",
              "      <th>76634</th>\n",
              "      <td>github</td>\n",
              "      <td>com</td>\n",
              "      <td>1</td>\n",
              "      <td>0</td>\n",
              "      <td>multipart/alternative</td>\n",
              "      <td>0</td>\n",
              "      <td>8</td>\n",
              "      <td>0</td>\n",
              "      <td>0</td>\n",
              "      <td>91.0</td>\n",
              "      <td>1307</td>\n",
              "      <td>3</td>\n",
              "      <td>2020.0</td>\n",
              "      <td>6.0</td>\n",
              "      <td>1.0</td>\n",
              "    </tr>\n",
              "    <tr>\n",
              "      <th>76635</th>\n",
              "      <td>google</td>\n",
              "      <td>com</td>\n",
              "      <td>0</td>\n",
              "      <td>0</td>\n",
              "      <td>multipart/alternative</td>\n",
              "      <td>27</td>\n",
              "      <td>85</td>\n",
              "      <td>0</td>\n",
              "      <td>0</td>\n",
              "      <td>46.0</td>\n",
              "      <td>28485</td>\n",
              "      <td>0</td>\n",
              "      <td>2020.0</td>\n",
              "      <td>5.0</td>\n",
              "      <td>1.0</td>\n",
              "    </tr>\n",
              "    <tr>\n",
              "      <th>76636</th>\n",
              "      <td>medium</td>\n",
              "      <td>com</td>\n",
              "      <td>0</td>\n",
              "      <td>0</td>\n",
              "      <td>multipart/alternative</td>\n",
              "      <td>32</td>\n",
              "      <td>239</td>\n",
              "      <td>1</td>\n",
              "      <td>1</td>\n",
              "      <td>169.0</td>\n",
              "      <td>105276</td>\n",
              "      <td>0</td>\n",
              "      <td>2018.0</td>\n",
              "      <td>12.0</td>\n",
              "      <td>4.0</td>\n",
              "    </tr>\n",
              "  </tbody>\n",
              "</table>\n",
              "<p>76637 rows × 15 columns</p>\n",
              "</div>"
            ],
            "text/plain": [
              "               org           tld  ccs  bcced  ... label    year  month  day_of_week\n",
              "0            reply       ebay.in    0      0  ...     2  2017.0   11.0          0.0\n",
              "1              edm  efinmail.com    0      0  ...     1  2018.0    2.0          2.0\n",
              "2      usebackpack           com    0      0  ...     1  2016.0    7.0          2.0\n",
              "3         granular            ai    0      0  ...     1  2019.0   10.0          4.0\n",
              "4           github           com    1      0  ...     1  2017.0   11.0          1.0\n",
              "...            ...           ...  ...    ...  ...   ...     ...    ...          ...\n",
              "76632       amazon            in    0      0  ...     1  2017.0    7.0          2.0\n",
              "76633        quora           com    0      0  ...     1  2015.0    4.0          1.0\n",
              "76634       github           com    1      0  ...     3  2020.0    6.0          1.0\n",
              "76635       google           com    0      0  ...     0  2020.0    5.0          1.0\n",
              "76636       medium           com    0      0  ...     0  2018.0   12.0          4.0\n",
              "\n",
              "[76637 rows x 15 columns]"
            ]
          },
          "metadata": {},
          "execution_count": 24
        }
      ]
    },
    {
      "cell_type": "markdown",
      "metadata": {
        "id": "NNxce6CG8gdm"
      },
      "source": [
        "###Change image"
      ]
    },
    {
      "cell_type": "code",
      "metadata": {
        "id": "kOR5l6at8mpL"
      },
      "source": [
        "td = []\n",
        "for i in range(len(train_df)):\n",
        "    if train_df['images'][i] > 1000:\n",
        "        td.append(i)\n",
        "        \n",
        "train_df.drop(td, axis=0, inplace=True)\n",
        "train_df.set_index(np.arange(len(train_df)), inplace=True)"
      ],
      "execution_count": null,
      "outputs": []
    },
    {
      "cell_type": "markdown",
      "metadata": {
        "id": "7OOtPmZs8uYD"
      },
      "source": [
        "###Change URLs"
      ]
    },
    {
      "cell_type": "code",
      "metadata": {
        "id": "n8IbRfBW8mwk"
      },
      "source": [
        "td = []\n",
        "for i in range(len(train_df)):\n",
        "    if train_df['urls'][i] > 1000:\n",
        "        td.append(i)\n",
        "        \n",
        "train_df.drop(td, axis=0, inplace=True)\n",
        "train_df.set_index(np.arange(len(train_df)), inplace=True)"
      ],
      "execution_count": null,
      "outputs": []
    },
    {
      "cell_type": "markdown",
      "metadata": {
        "id": "7DFIxDZC8-y9"
      },
      "source": [
        "###Change chars in subject  "
      ]
    },
    {
      "cell_type": "code",
      "metadata": {
        "id": "jKkyB_p18m3t"
      },
      "source": [
        "todrop = []\n",
        "for i in range(len(train_df)):\n",
        "    if train_df['chars_in_subject'][i] > 300:\n",
        "        td.append(i)\n",
        "        \n",
        "train_df.drop(todrop , axis=0, inplace=True)\n",
        "train_df.set_index(np.arange(len(train_df)), inplace=True)"
      ],
      "execution_count": null,
      "outputs": []
    },
    {
      "cell_type": "markdown",
      "metadata": {
        "id": "WYP_2SaJ9FIb"
      },
      "source": [
        "###Change chars in body"
      ]
    },
    {
      "cell_type": "code",
      "metadata": {
        "id": "rf0_ZYq28m_d"
      },
      "source": [
        "todrop = []\n",
        "for i in range(len(train_df)):\n",
        "    if train_df['chars_in_body'][i] > 10000000:\n",
        "        td.append(i)\n",
        "        \n",
        "train_df.drop(todrop, axis=0, inplace=True)\n",
        "train_df.set_index(np.arange(len(train_df)), inplace=True)"
      ],
      "execution_count": null,
      "outputs": []
    },
    {
      "cell_type": "code",
      "metadata": {
        "colab": {
          "base_uri": "https://localhost:8080/"
        },
        "id": "R5KEdNuIRNcK",
        "outputId": "ca727778-6351-40d8-af95-22c2e3bcb9f2"
      },
      "source": [
        "# Split the data\n",
        "def splitSet(dataset):\n",
        "    return dataset.drop(['label'],axis=1), dataset[['label']]\n",
        "\n",
        "X, y = splitSet(train_df.copy())\n",
        "print(\"Shape of design matrix of training set:\", X.shape)\n",
        "print(\"Shape of labels matrix of training set:\",y.shape)\n",
        "\n"
      ],
      "execution_count": null,
      "outputs": [
        {
          "output_type": "stream",
          "name": "stdout",
          "text": [
            "Shape of design matrix of training set: (76623, 14)\n",
            "Shape of labels matrix of training set: (76623, 1)\n"
          ]
        }
      ]
    },
    {
      "cell_type": "markdown",
      "metadata": {
        "id": "ka2ea8Lqq_RU"
      },
      "source": [
        "### Ratio & Mail types"
      ]
    },
    {
      "cell_type": "code",
      "metadata": {
        "id": "m8Xz3N1mrCvT"
      },
      "source": [
        "#image to chars-in-body\n",
        "X['im_to_char_body-ratio'] = X['images'].astype(float)/X['chars_in_body'].astype(float)\n",
        "\n",
        "#chars-in-subject to chars in body\n",
        "X['char_in_sub_to_char_body-ratio'] = X['chars_in_subject'].astype(float)/X['chars_in_body'].astype(float)\n",
        "\n",
        "#ccs to chars in body\n",
        "X['css_to_char_body-ratio'] = X['ccs'].astype(float)/X['chars_in_body'].astype(float)\n",
        "\n",
        "#urls to chars in body\n",
        "X['url_to_chars_body-ratio'] = X['urls'].astype(float)/X['chars_in_body'].astype(float)"
      ],
      "execution_count": null,
      "outputs": []
    },
    {
      "cell_type": "code",
      "metadata": {
        "colab": {
          "base_uri": "https://localhost:8080/"
        },
        "id": "2mF7SK2nrLu6",
        "outputId": "03f89af7-a740-4ba4-8b4d-078139914490"
      },
      "source": [
        "#splitting mail type into two variable \n",
        "'''\n",
        "train_df[['mail_type_1','mail_type_2']] = X['mail_type'].str.split('/',expand=True)\n",
        "X = X.drop(columns='mail_type')\n",
        "\n",
        "X['mail_type_1']= X['mail_type_1'].str.lower()\n",
        "X['mail_type_2']= X['mail_type_2'].str.lower()\n",
        "'''\n",
        "\n",
        "#We tried to split the mail types but it did not increase the accuracy of models so we did not used it. "
      ],
      "execution_count": null,
      "outputs": [
        {
          "output_type": "execute_result",
          "data": {
            "application/vnd.google.colaboratory.intrinsic+json": {
              "type": "string"
            },
            "text/plain": [
              "\"\\ntrain_df[['mail_type_1','mail_type_2']] = X['mail_type'].str.split('/',expand=True)\\nX = X.drop(columns='mail_type')\\n\\nX['mail_type_1']= X['mail_type_1'].str.lower()\\nX['mail_type_2']= X['mail_type_2'].str.lower()\\n\""
            ]
          },
          "metadata": {},
          "execution_count": 31
        }
      ]
    },
    {
      "cell_type": "markdown",
      "metadata": {
        "id": "NYtv1fHpQuiu"
      },
      "source": [
        "###Org change"
      ]
    },
    {
      "cell_type": "code",
      "metadata": {
        "colab": {
          "base_uri": "https://localhost:8080/"
        },
        "id": "e9k9vQsIQcXC",
        "outputId": "1dd68cbd-0591-4eaa-ac1e-6d2b3ea94d77"
      },
      "source": [
        "# Org Converting the 10% least frequent variable to other\n",
        "org_freq = (X['org'].value_counts())/X.shape[0]\n",
        "bottom_decile = org_freq.quantile(q=0.9)\n",
        "less_freq_org = org_freq[org_freq<=bottom_decile]\n",
        "X.loc[X['org'].isin(less_freq_org.index.tolist()),'org'] = \"other\"\n",
        "print(X['org'].value_counts())"
      ],
      "execution_count": null,
      "outputs": [
        {
          "output_type": "stream",
          "name": "stdout",
          "text": [
            "iiitd           19927\n",
            "other            9883\n",
            "usebackpack      5070\n",
            "google           3890\n",
            "amazon           3123\n",
            "                ...  \n",
            "mapbox             95\n",
            "deeplearning       93\n",
            "plus               93\n",
            "splitwise          92\n",
            "emails             91\n",
            "Name: org, Length: 102, dtype: int64\n"
          ]
        }
      ]
    },
    {
      "cell_type": "markdown",
      "metadata": {
        "id": "gOQ35y8eQw0o"
      },
      "source": [
        "###Tld change"
      ]
    },
    {
      "cell_type": "code",
      "metadata": {
        "colab": {
          "base_uri": "https://localhost:8080/"
        },
        "id": "urpSDBOYRFdm",
        "outputId": "dc7bdc5c-ac16-44c1-f0f9-9ee2638689a3"
      },
      "source": [
        "# tld Converting the 10% least frequent variable to other\n",
        "tld_freq = (X['tld'].value_counts())/X.shape[0]\n",
        "bottom_decile = tld_freq.quantile(q=0.9)\n",
        "less_freq_tld = tld_freq[tld_freq<=bottom_decile]\n",
        "X.loc[X['tld'].isin(less_freq_tld.index.tolist()),'tld'] = \"other\"\n",
        "print(X['tld'].value_counts())"
      ],
      "execution_count": null,
      "outputs": [
        {
          "output_type": "stream",
          "name": "stdout",
          "text": [
            "com                  34596\n",
            "ac.in                20026\n",
            "other                 4385\n",
            "in                    3776\n",
            "org                   3447\n",
            "fr                    1580\n",
            "gov.in                1540\n",
            "ai                     719\n",
            "co.in                  704\n",
            "netflix.com            629\n",
            "net                    554\n",
            "google.com             428\n",
            "foodpanda.in           405\n",
            "ebay.in                392\n",
            "intercom-mail.com      304\n",
            "co                     299\n",
            "grammarly.com          277\n",
            "mail.coursera.org      272\n",
            "microsoft.com          247\n",
            "bookmyshow.com         240\n",
            "speakingtree.in        229\n",
            "freelancer.com         222\n",
            "sdconnect.in           214\n",
            "gov                    214\n",
            "linkedin.com           205\n",
            "apple.com              199\n",
            "org.in                 190\n",
            "jp                     181\n",
            "ibm.com                149\n",
            "Name: tld, dtype: int64\n"
          ]
        }
      ]
    },
    {
      "cell_type": "markdown",
      "metadata": {
        "id": "iuoq5E3FEAbJ"
      },
      "source": [
        "### Correlation"
      ]
    },
    {
      "cell_type": "code",
      "metadata": {
        "colab": {
          "base_uri": "https://localhost:8080/"
        },
        "id": "UYxMW4EQNljO",
        "outputId": "82c668c7-3d4d-4746-d4fc-8ba10d5c0eda"
      },
      "source": [
        "#Lets see the correlation between labels and other variables\n",
        "X.corr() #only takes into account numerical variables\n"
      ],
      "execution_count": null,
      "outputs": [
        {
          "output_type": "execute_result",
          "data": {
            "text/html": [
              "<div>\n",
              "<style scoped>\n",
              "    .dataframe tbody tr th:only-of-type {\n",
              "        vertical-align: middle;\n",
              "    }\n",
              "\n",
              "    .dataframe tbody tr th {\n",
              "        vertical-align: top;\n",
              "    }\n",
              "\n",
              "    .dataframe thead th {\n",
              "        text-align: right;\n",
              "    }\n",
              "</style>\n",
              "<table border=\"1\" class=\"dataframe\">\n",
              "  <thead>\n",
              "    <tr style=\"text-align: right;\">\n",
              "      <th></th>\n",
              "      <th>ccs</th>\n",
              "      <th>bcced</th>\n",
              "      <th>images</th>\n",
              "      <th>urls</th>\n",
              "      <th>salutations</th>\n",
              "      <th>designation</th>\n",
              "      <th>chars_in_subject</th>\n",
              "      <th>chars_in_body</th>\n",
              "      <th>year</th>\n",
              "      <th>month</th>\n",
              "      <th>day_of_week</th>\n",
              "      <th>im_to_char_body-ratio</th>\n",
              "      <th>char_in_sub_to_char_body-ratio</th>\n",
              "      <th>css_to_char_body-ratio</th>\n",
              "      <th>url_to_chars_body-ratio</th>\n",
              "    </tr>\n",
              "  </thead>\n",
              "  <tbody>\n",
              "    <tr>\n",
              "      <th>ccs</th>\n",
              "      <td>1.000000</td>\n",
              "      <td>0.000191</td>\n",
              "      <td>-0.065801</td>\n",
              "      <td>-0.087644</td>\n",
              "      <td>0.099992</td>\n",
              "      <td>-0.012329</td>\n",
              "      <td>-0.030992</td>\n",
              "      <td>0.009789</td>\n",
              "      <td>-0.050525</td>\n",
              "      <td>-0.000502</td>\n",
              "      <td>-0.007716</td>\n",
              "      <td>-0.072697</td>\n",
              "      <td>-0.019544</td>\n",
              "      <td>0.038172</td>\n",
              "      <td>-0.074907</td>\n",
              "    </tr>\n",
              "    <tr>\n",
              "      <th>bcced</th>\n",
              "      <td>0.000191</td>\n",
              "      <td>1.000000</td>\n",
              "      <td>-0.012103</td>\n",
              "      <td>-0.034288</td>\n",
              "      <td>0.026397</td>\n",
              "      <td>0.001747</td>\n",
              "      <td>-0.000343</td>\n",
              "      <td>0.043781</td>\n",
              "      <td>-0.000697</td>\n",
              "      <td>0.011223</td>\n",
              "      <td>-0.001963</td>\n",
              "      <td>-0.030355</td>\n",
              "      <td>-0.006286</td>\n",
              "      <td>0.004450</td>\n",
              "      <td>-0.028108</td>\n",
              "    </tr>\n",
              "    <tr>\n",
              "      <th>images</th>\n",
              "      <td>-0.065801</td>\n",
              "      <td>-0.012103</td>\n",
              "      <td>1.000000</td>\n",
              "      <td>0.582741</td>\n",
              "      <td>-0.090091</td>\n",
              "      <td>0.062656</td>\n",
              "      <td>0.130423</td>\n",
              "      <td>0.015068</td>\n",
              "      <td>0.062739</td>\n",
              "      <td>-0.003498</td>\n",
              "      <td>0.013545</td>\n",
              "      <td>0.426777</td>\n",
              "      <td>-0.068504</td>\n",
              "      <td>-0.011747</td>\n",
              "      <td>0.132094</td>\n",
              "    </tr>\n",
              "    <tr>\n",
              "      <th>urls</th>\n",
              "      <td>-0.087644</td>\n",
              "      <td>-0.034288</td>\n",
              "      <td>0.582741</td>\n",
              "      <td>1.000000</td>\n",
              "      <td>-0.056816</td>\n",
              "      <td>0.183341</td>\n",
              "      <td>0.291603</td>\n",
              "      <td>-0.029171</td>\n",
              "      <td>0.110950</td>\n",
              "      <td>0.002444</td>\n",
              "      <td>0.021127</td>\n",
              "      <td>0.274387</td>\n",
              "      <td>-0.103748</td>\n",
              "      <td>-0.017406</td>\n",
              "      <td>0.223891</td>\n",
              "    </tr>\n",
              "    <tr>\n",
              "      <th>salutations</th>\n",
              "      <td>0.099992</td>\n",
              "      <td>0.026397</td>\n",
              "      <td>-0.090091</td>\n",
              "      <td>-0.056816</td>\n",
              "      <td>1.000000</td>\n",
              "      <td>0.101217</td>\n",
              "      <td>-0.040106</td>\n",
              "      <td>0.074772</td>\n",
              "      <td>-0.058403</td>\n",
              "      <td>-0.006083</td>\n",
              "      <td>-0.002650</td>\n",
              "      <td>-0.230790</td>\n",
              "      <td>-0.112661</td>\n",
              "      <td>-0.003124</td>\n",
              "      <td>-0.108507</td>\n",
              "    </tr>\n",
              "    <tr>\n",
              "      <th>designation</th>\n",
              "      <td>-0.012329</td>\n",
              "      <td>0.001747</td>\n",
              "      <td>0.062656</td>\n",
              "      <td>0.183341</td>\n",
              "      <td>0.101217</td>\n",
              "      <td>1.000000</td>\n",
              "      <td>0.115916</td>\n",
              "      <td>-0.015823</td>\n",
              "      <td>0.022026</td>\n",
              "      <td>0.006348</td>\n",
              "      <td>-0.020248</td>\n",
              "      <td>-0.059164</td>\n",
              "      <td>-0.048440</td>\n",
              "      <td>-0.006411</td>\n",
              "      <td>-0.014283</td>\n",
              "    </tr>\n",
              "    <tr>\n",
              "      <th>chars_in_subject</th>\n",
              "      <td>-0.030992</td>\n",
              "      <td>-0.000343</td>\n",
              "      <td>0.130423</td>\n",
              "      <td>0.291603</td>\n",
              "      <td>-0.040106</td>\n",
              "      <td>0.115916</td>\n",
              "      <td>1.000000</td>\n",
              "      <td>-0.022729</td>\n",
              "      <td>0.102262</td>\n",
              "      <td>0.011458</td>\n",
              "      <td>-0.027375</td>\n",
              "      <td>0.046660</td>\n",
              "      <td>0.044687</td>\n",
              "      <td>-0.001494</td>\n",
              "      <td>0.027662</td>\n",
              "    </tr>\n",
              "    <tr>\n",
              "      <th>chars_in_body</th>\n",
              "      <td>0.009789</td>\n",
              "      <td>0.043781</td>\n",
              "      <td>0.015068</td>\n",
              "      <td>-0.029171</td>\n",
              "      <td>0.074772</td>\n",
              "      <td>-0.015823</td>\n",
              "      <td>-0.022729</td>\n",
              "      <td>1.000000</td>\n",
              "      <td>-0.013789</td>\n",
              "      <td>-0.002299</td>\n",
              "      <td>-0.015575</td>\n",
              "      <td>-0.059505</td>\n",
              "      <td>-0.014929</td>\n",
              "      <td>-0.002567</td>\n",
              "      <td>-0.099279</td>\n",
              "    </tr>\n",
              "    <tr>\n",
              "      <th>year</th>\n",
              "      <td>-0.050525</td>\n",
              "      <td>-0.000697</td>\n",
              "      <td>0.062739</td>\n",
              "      <td>0.110950</td>\n",
              "      <td>-0.058403</td>\n",
              "      <td>0.022026</td>\n",
              "      <td>0.102262</td>\n",
              "      <td>-0.013789</td>\n",
              "      <td>1.000000</td>\n",
              "      <td>-0.165565</td>\n",
              "      <td>-0.001783</td>\n",
              "      <td>0.076085</td>\n",
              "      <td>-0.028166</td>\n",
              "      <td>0.004110</td>\n",
              "      <td>0.135830</td>\n",
              "    </tr>\n",
              "    <tr>\n",
              "      <th>month</th>\n",
              "      <td>-0.000502</td>\n",
              "      <td>0.011223</td>\n",
              "      <td>-0.003498</td>\n",
              "      <td>0.002444</td>\n",
              "      <td>-0.006083</td>\n",
              "      <td>0.006348</td>\n",
              "      <td>0.011458</td>\n",
              "      <td>-0.002299</td>\n",
              "      <td>-0.165565</td>\n",
              "      <td>1.000000</td>\n",
              "      <td>-0.029087</td>\n",
              "      <td>-0.020122</td>\n",
              "      <td>0.000958</td>\n",
              "      <td>-0.017783</td>\n",
              "      <td>-0.052075</td>\n",
              "    </tr>\n",
              "    <tr>\n",
              "      <th>day_of_week</th>\n",
              "      <td>-0.007716</td>\n",
              "      <td>-0.001963</td>\n",
              "      <td>0.013545</td>\n",
              "      <td>0.021127</td>\n",
              "      <td>-0.002650</td>\n",
              "      <td>-0.020248</td>\n",
              "      <td>-0.027375</td>\n",
              "      <td>-0.015575</td>\n",
              "      <td>-0.001783</td>\n",
              "      <td>-0.029087</td>\n",
              "      <td>1.000000</td>\n",
              "      <td>0.034051</td>\n",
              "      <td>-0.000541</td>\n",
              "      <td>-0.006000</td>\n",
              "      <td>0.045457</td>\n",
              "    </tr>\n",
              "    <tr>\n",
              "      <th>im_to_char_body-ratio</th>\n",
              "      <td>-0.072697</td>\n",
              "      <td>-0.030355</td>\n",
              "      <td>0.426777</td>\n",
              "      <td>0.274387</td>\n",
              "      <td>-0.230790</td>\n",
              "      <td>-0.059164</td>\n",
              "      <td>0.046660</td>\n",
              "      <td>-0.059505</td>\n",
              "      <td>0.076085</td>\n",
              "      <td>-0.020122</td>\n",
              "      <td>0.034051</td>\n",
              "      <td>1.000000</td>\n",
              "      <td>-0.093360</td>\n",
              "      <td>-0.014946</td>\n",
              "      <td>0.428718</td>\n",
              "    </tr>\n",
              "    <tr>\n",
              "      <th>char_in_sub_to_char_body-ratio</th>\n",
              "      <td>-0.019544</td>\n",
              "      <td>-0.006286</td>\n",
              "      <td>-0.068504</td>\n",
              "      <td>-0.103748</td>\n",
              "      <td>-0.112661</td>\n",
              "      <td>-0.048440</td>\n",
              "      <td>0.044687</td>\n",
              "      <td>-0.014929</td>\n",
              "      <td>-0.028166</td>\n",
              "      <td>0.000958</td>\n",
              "      <td>-0.000541</td>\n",
              "      <td>-0.093360</td>\n",
              "      <td>1.000000</td>\n",
              "      <td>0.091110</td>\n",
              "      <td>-0.146298</td>\n",
              "    </tr>\n",
              "    <tr>\n",
              "      <th>css_to_char_body-ratio</th>\n",
              "      <td>0.038172</td>\n",
              "      <td>0.004450</td>\n",
              "      <td>-0.011747</td>\n",
              "      <td>-0.017406</td>\n",
              "      <td>-0.003124</td>\n",
              "      <td>-0.006411</td>\n",
              "      <td>-0.001494</td>\n",
              "      <td>-0.002567</td>\n",
              "      <td>0.004110</td>\n",
              "      <td>-0.017783</td>\n",
              "      <td>-0.006000</td>\n",
              "      <td>-0.014946</td>\n",
              "      <td>0.091110</td>\n",
              "      <td>1.000000</td>\n",
              "      <td>-0.018979</td>\n",
              "    </tr>\n",
              "    <tr>\n",
              "      <th>url_to_chars_body-ratio</th>\n",
              "      <td>-0.074907</td>\n",
              "      <td>-0.028108</td>\n",
              "      <td>0.132094</td>\n",
              "      <td>0.223891</td>\n",
              "      <td>-0.108507</td>\n",
              "      <td>-0.014283</td>\n",
              "      <td>0.027662</td>\n",
              "      <td>-0.099279</td>\n",
              "      <td>0.135830</td>\n",
              "      <td>-0.052075</td>\n",
              "      <td>0.045457</td>\n",
              "      <td>0.428718</td>\n",
              "      <td>-0.146298</td>\n",
              "      <td>-0.018979</td>\n",
              "      <td>1.000000</td>\n",
              "    </tr>\n",
              "  </tbody>\n",
              "</table>\n",
              "</div>"
            ],
            "text/plain": [
              "                                     ccs  ...  url_to_chars_body-ratio\n",
              "ccs                             1.000000  ...                -0.074907\n",
              "bcced                           0.000191  ...                -0.028108\n",
              "images                         -0.065801  ...                 0.132094\n",
              "urls                           -0.087644  ...                 0.223891\n",
              "salutations                     0.099992  ...                -0.108507\n",
              "designation                    -0.012329  ...                -0.014283\n",
              "chars_in_subject               -0.030992  ...                 0.027662\n",
              "chars_in_body                   0.009789  ...                -0.099279\n",
              "year                           -0.050525  ...                 0.135830\n",
              "month                          -0.000502  ...                -0.052075\n",
              "day_of_week                    -0.007716  ...                 0.045457\n",
              "im_to_char_body-ratio          -0.072697  ...                 0.428718\n",
              "char_in_sub_to_char_body-ratio -0.019544  ...                -0.146298\n",
              "css_to_char_body-ratio          0.038172  ...                -0.018979\n",
              "url_to_chars_body-ratio        -0.074907  ...                 1.000000\n",
              "\n",
              "[15 rows x 15 columns]"
            ]
          },
          "metadata": {},
          "execution_count": 34
        }
      ]
    },
    {
      "cell_type": "code",
      "metadata": {
        "colab": {
          "base_uri": "https://localhost:8080/"
        },
        "id": "N-lS2T-ND2wx",
        "outputId": "6a70c216-e8ba-4147-cf76-c9c34c6d5a85"
      },
      "source": [
        "plt.figure(figsize=(20,15))\n",
        "sns.heatmap(X.corr())"
      ],
      "execution_count": null,
      "outputs": [
        {
          "output_type": "execute_result",
          "data": {
            "text/plain": [
              "<matplotlib.axes._subplots.AxesSubplot at 0x7fbd0fd3d3d0>"
            ]
          },
          "metadata": {},
          "execution_count": 35
        },
        {
          "output_type": "display_data",
          "data": {
            "image/png": "[encoded data removed]",
            "text/plain": [
              "<Figure size 1440x1080 with 2 Axes>"
            ]
          },
          "metadata": {
            "needs_background": "light"
          }
        }
      ]
    },
    {
      "cell_type": "code",
      "metadata": {
        "colab": {
          "base_uri": "https://localhost:8080/"
        },
        "id": "Q1bVngBQGQya",
        "outputId": "e993b9de-3694-4890-cd25-daf4791c2908"
      },
      "source": [
        "test = X.select_dtypes(exclude=['object','category'])\n",
        "\n",
        "\n",
        "test.dtypes"
      ],
      "execution_count": null,
      "outputs": [
        {
          "output_type": "execute_result",
          "data": {
            "text/plain": [
              "ccs                                 int64\n",
              "bcced                               int64\n",
              "images                              int64\n",
              "urls                                int64\n",
              "salutations                         int64\n",
              "designation                         int64\n",
              "chars_in_subject                  float64\n",
              "chars_in_body                       int64\n",
              "year                              float64\n",
              "month                             float64\n",
              "day_of_week                       float64\n",
              "im_to_char_body-ratio             float64\n",
              "char_in_sub_to_char_body-ratio    float64\n",
              "css_to_char_body-ratio            float64\n",
              "url_to_chars_body-ratio           float64\n",
              "dtype: object"
            ]
          },
          "metadata": {},
          "execution_count": 36
        }
      ]
    },
    {
      "cell_type": "code",
      "metadata": {
        "colab": {
          "base_uri": "https://localhost:8080/"
        },
        "id": "Mr7iU9dvEFv9",
        "outputId": "f796782c-f01a-42ea-daa8-071a1c820fc5"
      },
      "source": [
        "#identify low variance features\n",
        "# Define thresholds to check\n",
        "thresholds = np.arange(0.0, 1, 0.010)\n",
        "# Apply transform with each threshold\n",
        "results = list()\n",
        "\n",
        "for t in thresholds:\n",
        "    transform = VarianceThreshold(threshold=t)\n",
        "    #Tranformation of input\n",
        "    X_sel = transform.fit_transform(X.select_dtypes(exclude=['object','category']))\n",
        "    # Determine the number of input features\n",
        "    n_features = X_sel.shape[1]\n",
        "    print('>Threshold=%.2f, Features=%d' % (t, n_features))\n",
        "    # Store the result\n",
        "    results.append(n_features)\n",
        "# Plot the threshold vs the number of selected features\n",
        "plt.plot(thresholds, results)\n",
        "plt.show()\n"
      ],
      "execution_count": null,
      "outputs": [
        {
          "output_type": "stream",
          "name": "stdout",
          "text": [
            ">Threshold=0.00, Features=15\n",
            ">Threshold=0.01, Features=11\n",
            ">Threshold=0.02, Features=11\n",
            ">Threshold=0.03, Features=11\n",
            ">Threshold=0.04, Features=11\n",
            ">Threshold=0.05, Features=11\n",
            ">Threshold=0.06, Features=11\n",
            ">Threshold=0.07, Features=11\n",
            ">Threshold=0.08, Features=11\n",
            ">Threshold=0.09, Features=11\n",
            ">Threshold=0.10, Features=10\n",
            ">Threshold=0.11, Features=10\n",
            ">Threshold=0.12, Features=10\n",
            ">Threshold=0.13, Features=10\n",
            ">Threshold=0.14, Features=10\n",
            ">Threshold=0.15, Features=10\n",
            ">Threshold=0.16, Features=10\n",
            ">Threshold=0.17, Features=10\n",
            ">Threshold=0.18, Features=10\n",
            ">Threshold=0.19, Features=10\n",
            ">Threshold=0.20, Features=10\n",
            ">Threshold=0.21, Features=10\n",
            ">Threshold=0.22, Features=10\n",
            ">Threshold=0.23, Features=10\n",
            ">Threshold=0.24, Features=10\n",
            ">Threshold=0.25, Features=9\n",
            ">Threshold=0.26, Features=9\n",
            ">Threshold=0.27, Features=9\n",
            ">Threshold=0.28, Features=9\n",
            ">Threshold=0.29, Features=9\n",
            ">Threshold=0.30, Features=9\n",
            ">Threshold=0.31, Features=9\n",
            ">Threshold=0.32, Features=9\n",
            ">Threshold=0.33, Features=9\n",
            ">Threshold=0.34, Features=9\n",
            ">Threshold=0.35, Features=9\n",
            ">Threshold=0.36, Features=9\n",
            ">Threshold=0.37, Features=9\n",
            ">Threshold=0.38, Features=9\n",
            ">Threshold=0.39, Features=9\n",
            ">Threshold=0.40, Features=9\n",
            ">Threshold=0.41, Features=9\n",
            ">Threshold=0.42, Features=9\n",
            ">Threshold=0.43, Features=9\n",
            ">Threshold=0.44, Features=9\n",
            ">Threshold=0.45, Features=9\n",
            ">Threshold=0.46, Features=9\n",
            ">Threshold=0.47, Features=9\n",
            ">Threshold=0.48, Features=9\n",
            ">Threshold=0.49, Features=9\n",
            ">Threshold=0.50, Features=9\n",
            ">Threshold=0.51, Features=9\n",
            ">Threshold=0.52, Features=9\n",
            ">Threshold=0.53, Features=9\n",
            ">Threshold=0.54, Features=9\n",
            ">Threshold=0.55, Features=9\n",
            ">Threshold=0.56, Features=9\n",
            ">Threshold=0.57, Features=9\n",
            ">Threshold=0.58, Features=9\n",
            ">Threshold=0.59, Features=9\n",
            ">Threshold=0.60, Features=9\n",
            ">Threshold=0.61, Features=9\n",
            ">Threshold=0.62, Features=9\n",
            ">Threshold=0.63, Features=9\n",
            ">Threshold=0.64, Features=9\n",
            ">Threshold=0.65, Features=9\n",
            ">Threshold=0.66, Features=9\n",
            ">Threshold=0.67, Features=9\n",
            ">Threshold=0.68, Features=9\n",
            ">Threshold=0.69, Features=9\n",
            ">Threshold=0.70, Features=9\n",
            ">Threshold=0.71, Features=9\n",
            ">Threshold=0.72, Features=9\n",
            ">Threshold=0.73, Features=9\n",
            ">Threshold=0.74, Features=9\n",
            ">Threshold=0.75, Features=9\n",
            ">Threshold=0.76, Features=9\n",
            ">Threshold=0.77, Features=9\n",
            ">Threshold=0.78, Features=9\n",
            ">Threshold=0.79, Features=9\n",
            ">Threshold=0.80, Features=9\n",
            ">Threshold=0.81, Features=9\n",
            ">Threshold=0.82, Features=9\n",
            ">Threshold=0.83, Features=9\n",
            ">Threshold=0.84, Features=9\n",
            ">Threshold=0.85, Features=9\n",
            ">Threshold=0.86, Features=9\n",
            ">Threshold=0.87, Features=9\n",
            ">Threshold=0.88, Features=9\n",
            ">Threshold=0.89, Features=9\n",
            ">Threshold=0.90, Features=9\n",
            ">Threshold=0.91, Features=9\n",
            ">Threshold=0.92, Features=9\n",
            ">Threshold=0.93, Features=9\n",
            ">Threshold=0.94, Features=9\n",
            ">Threshold=0.95, Features=9\n",
            ">Threshold=0.96, Features=9\n",
            ">Threshold=0.97, Features=9\n",
            ">Threshold=0.98, Features=9\n",
            ">Threshold=0.99, Features=9\n"
          ]
        },
        {
          "output_type": "display_data",
          "data": {
            "image/png": "[encoded data removed]",
            "text/plain": [
              "<Figure size 432x288 with 1 Axes>"
            ]
          },
          "metadata": {
            "needs_background": "light"
          }
        }
      ]
    },
    {
      "cell_type": "code",
      "metadata": {
        "id": "q4IX-wnHE0IE"
      },
      "source": [
        "datavar = X.copy()\n",
        "\n",
        "def variance_selector(data, threshold = 0.05):\n",
        "    if threshold == 0:\n",
        "        return data\n",
        "    else:\n",
        "        selector = VarianceThreshold(threshold)\n",
        "        col1 = datavar.select_dtypes(exclude=['number']).columns.tolist()\n",
        "        selector.fit(datavar[datavar.select_dtypes(include=['number']).columns]) \n",
        "        return data[list(set(col1+datavar.columns[selector.get_support(indices=True)].tolist()))] \n",
        "\n",
        "X_sel = variance_selector(X, threshold = 0.05)"
      ],
      "execution_count": null,
      "outputs": []
    },
    {
      "cell_type": "code",
      "metadata": {
        "colab": {
          "base_uri": "https://localhost:8080/"
        },
        "id": "kL8g0gmxE_Y7",
        "outputId": "910a5667-c651-45d8-f096-0a6e431e359d"
      },
      "source": [
        "print(X.shape)\n",
        "sorted(X.columns.tolist())"
      ],
      "execution_count": null,
      "outputs": [
        {
          "output_type": "stream",
          "name": "stdout",
          "text": [
            "(76623, 18)\n"
          ]
        },
        {
          "output_type": "execute_result",
          "data": {
            "text/plain": [
              "['bcced',\n",
              " 'ccs',\n",
              " 'char_in_sub_to_char_body-ratio',\n",
              " 'chars_in_body',\n",
              " 'chars_in_subject',\n",
              " 'css_to_char_body-ratio',\n",
              " 'day_of_week',\n",
              " 'designation',\n",
              " 'im_to_char_body-ratio',\n",
              " 'images',\n",
              " 'mail_type',\n",
              " 'month',\n",
              " 'org',\n",
              " 'salutations',\n",
              " 'tld',\n",
              " 'url_to_chars_body-ratio',\n",
              " 'urls',\n",
              " 'year']"
            ]
          },
          "metadata": {},
          "execution_count": 39
        }
      ]
    },
    {
      "cell_type": "code",
      "metadata": {
        "colab": {
          "base_uri": "https://localhost:8080/"
        },
        "id": "JGWTJzzlE_Xi",
        "outputId": "7567146b-2a12-4df0-e188-d157541fa5ca"
      },
      "source": [
        "print(X_sel.shape)\n",
        "sorted(X_sel.columns.tolist())\n",
        "\n",
        "#excluded variables:\n",
        "#- 'char_in_sub_to_char_body'\n",
        "#- 'css_to_char_body'\n",
        "#- 'day'\n",
        "#- 'hour'"
      ],
      "execution_count": null,
      "outputs": [
        {
          "output_type": "stream",
          "name": "stdout",
          "text": [
            "(76623, 12)\n"
          ]
        },
        {
          "output_type": "execute_result",
          "data": {
            "text/plain": [
              "['bcced',\n",
              " 'ccs',\n",
              " 'chars_in_body',\n",
              " 'chars_in_subject',\n",
              " 'designation',\n",
              " 'images',\n",
              " 'mail_type',\n",
              " 'month',\n",
              " 'org',\n",
              " 'salutations',\n",
              " 'tld',\n",
              " 'urls']"
            ]
          },
          "metadata": {},
          "execution_count": 40
        }
      ]
    },
    {
      "cell_type": "markdown",
      "metadata": {
        "id": "crObYwQMGWEF"
      },
      "source": [
        "### Chi square"
      ]
    },
    {
      "cell_type": "code",
      "metadata": {
        "colab": {
          "base_uri": "https://localhost:8080/"
        },
        "id": "pFPiKUFgNsyW",
        "outputId": "ccc4aba1-cd64-461c-92b8-25534c216363"
      },
      "source": [
        "#Chi square tests the dependence of categorical features to the target categories\n",
        "# For this, each feature must must be converted to numbers\n",
        "#However, if there are too many possibilities per feature, the results are highly biased since dependency can incur by chance (e.g. org, tld)\n",
        "#Therefore, we only include categorical variables with up to 12 classes (year)\n",
        "X.describe()"
      ],
      "execution_count": null,
      "outputs": [
        {
          "output_type": "execute_result",
          "data": {
            "text/html": [
              "<div>\n",
              "<style scoped>\n",
              "    .dataframe tbody tr th:only-of-type {\n",
              "        vertical-align: middle;\n",
              "    }\n",
              "\n",
              "    .dataframe tbody tr th {\n",
              "        vertical-align: top;\n",
              "    }\n",
              "\n",
              "    .dataframe thead th {\n",
              "        text-align: right;\n",
              "    }\n",
              "</style>\n",
              "<table border=\"1\" class=\"dataframe\">\n",
              "  <thead>\n",
              "    <tr style=\"text-align: right;\">\n",
              "      <th></th>\n",
              "      <th>ccs</th>\n",
              "      <th>bcced</th>\n",
              "      <th>images</th>\n",
              "      <th>urls</th>\n",
              "      <th>salutations</th>\n",
              "      <th>designation</th>\n",
              "      <th>chars_in_subject</th>\n",
              "      <th>chars_in_body</th>\n",
              "      <th>year</th>\n",
              "      <th>month</th>\n",
              "      <th>day_of_week</th>\n",
              "      <th>im_to_char_body-ratio</th>\n",
              "      <th>char_in_sub_to_char_body-ratio</th>\n",
              "      <th>css_to_char_body-ratio</th>\n",
              "      <th>url_to_chars_body-ratio</th>\n",
              "    </tr>\n",
              "  </thead>\n",
              "  <tbody>\n",
              "    <tr>\n",
              "      <th>count</th>\n",
              "      <td>76623.000000</td>\n",
              "      <td>76623.000000</td>\n",
              "      <td>76623.000000</td>\n",
              "      <td>76623.000000</td>\n",
              "      <td>76623.000000</td>\n",
              "      <td>76623.000000</td>\n",
              "      <td>76623.000000</td>\n",
              "      <td>7.662300e+04</td>\n",
              "      <td>76623.000000</td>\n",
              "      <td>76623.000000</td>\n",
              "      <td>76623.000000</td>\n",
              "      <td>76623.000000</td>\n",
              "      <td>76623.000000</td>\n",
              "      <td>76623.000000</td>\n",
              "      <td>76623.000000</td>\n",
              "    </tr>\n",
              "    <tr>\n",
              "      <th>mean</th>\n",
              "      <td>0.493011</td>\n",
              "      <td>0.003002</td>\n",
              "      <td>6.741709</td>\n",
              "      <td>34.933414</td>\n",
              "      <td>0.403143</td>\n",
              "      <td>0.107526</td>\n",
              "      <td>51.301946</td>\n",
              "      <td>2.021409e+05</td>\n",
              "      <td>2016.925545</td>\n",
              "      <td>6.559584</td>\n",
              "      <td>2.671013</td>\n",
              "      <td>0.000211</td>\n",
              "      <td>0.293916</td>\n",
              "      <td>0.000268</td>\n",
              "      <td>0.001359</td>\n",
              "    </tr>\n",
              "    <tr>\n",
              "      <th>std</th>\n",
              "      <td>3.249338</td>\n",
              "      <td>0.054706</td>\n",
              "      <td>13.868815</td>\n",
              "      <td>47.394284</td>\n",
              "      <td>0.490532</td>\n",
              "      <td>0.309783</td>\n",
              "      <td>33.743838</td>\n",
              "      <td>1.917403e+06</td>\n",
              "      <td>1.668738</td>\n",
              "      <td>3.322400</td>\n",
              "      <td>1.863160</td>\n",
              "      <td>0.000315</td>\n",
              "      <td>2.073747</td>\n",
              "      <td>0.010919</td>\n",
              "      <td>0.001260</td>\n",
              "    </tr>\n",
              "    <tr>\n",
              "      <th>min</th>\n",
              "      <td>0.000000</td>\n",
              "      <td>0.000000</td>\n",
              "      <td>0.000000</td>\n",
              "      <td>0.000000</td>\n",
              "      <td>0.000000</td>\n",
              "      <td>0.000000</td>\n",
              "      <td>0.000000</td>\n",
              "      <td>4.000000e+00</td>\n",
              "      <td>2012.000000</td>\n",
              "      <td>1.000000</td>\n",
              "      <td>0.000000</td>\n",
              "      <td>0.000000</td>\n",
              "      <td>0.000000</td>\n",
              "      <td>0.000000</td>\n",
              "      <td>0.000000</td>\n",
              "    </tr>\n",
              "    <tr>\n",
              "      <th>25%</th>\n",
              "      <td>0.000000</td>\n",
              "      <td>0.000000</td>\n",
              "      <td>0.000000</td>\n",
              "      <td>4.000000</td>\n",
              "      <td>0.000000</td>\n",
              "      <td>0.000000</td>\n",
              "      <td>32.000000</td>\n",
              "      <td>5.143000e+03</td>\n",
              "      <td>2016.000000</td>\n",
              "      <td>4.000000</td>\n",
              "      <td>1.000000</td>\n",
              "      <td>0.000000</td>\n",
              "      <td>0.001113</td>\n",
              "      <td>0.000000</td>\n",
              "      <td>0.000559</td>\n",
              "    </tr>\n",
              "    <tr>\n",
              "      <th>50%</th>\n",
              "      <td>0.000000</td>\n",
              "      <td>0.000000</td>\n",
              "      <td>2.000000</td>\n",
              "      <td>18.000000</td>\n",
              "      <td>0.000000</td>\n",
              "      <td>0.000000</td>\n",
              "      <td>42.000000</td>\n",
              "      <td>2.136800e+04</td>\n",
              "      <td>2017.000000</td>\n",
              "      <td>7.000000</td>\n",
              "      <td>3.000000</td>\n",
              "      <td>0.000132</td>\n",
              "      <td>0.002195</td>\n",
              "      <td>0.000000</td>\n",
              "      <td>0.001109</td>\n",
              "    </tr>\n",
              "    <tr>\n",
              "      <th>75%</th>\n",
              "      <td>0.000000</td>\n",
              "      <td>0.000000</td>\n",
              "      <td>9.000000</td>\n",
              "      <td>45.000000</td>\n",
              "      <td>1.000000</td>\n",
              "      <td>0.000000</td>\n",
              "      <td>62.000000</td>\n",
              "      <td>4.735600e+04</td>\n",
              "      <td>2018.000000</td>\n",
              "      <td>9.000000</td>\n",
              "      <td>4.000000</td>\n",
              "      <td>0.000296</td>\n",
              "      <td>0.007431</td>\n",
              "      <td>0.000000</td>\n",
              "      <td>0.001923</td>\n",
              "    </tr>\n",
              "    <tr>\n",
              "      <th>max</th>\n",
              "      <td>179.000000</td>\n",
              "      <td>1.000000</td>\n",
              "      <td>1000.000000</td>\n",
              "      <td>711.000000</td>\n",
              "      <td>1.000000</td>\n",
              "      <td>1.000000</td>\n",
              "      <td>606.000000</td>\n",
              "      <td>7.438108e+07</td>\n",
              "      <td>2020.000000</td>\n",
              "      <td>12.000000</td>\n",
              "      <td>6.000000</td>\n",
              "      <td>0.025754</td>\n",
              "      <td>45.500000</td>\n",
              "      <td>1.000000</td>\n",
              "      <td>0.021277</td>\n",
              "    </tr>\n",
              "  </tbody>\n",
              "</table>\n",
              "</div>"
            ],
            "text/plain": [
              "                ccs  ...  url_to_chars_body-ratio\n",
              "count  76623.000000  ...             76623.000000\n",
              "mean       0.493011  ...                 0.001359\n",
              "std        3.249338  ...                 0.001260\n",
              "min        0.000000  ...                 0.000000\n",
              "25%        0.000000  ...                 0.000559\n",
              "50%        0.000000  ...                 0.001109\n",
              "75%        0.000000  ...                 0.001923\n",
              "max      179.000000  ...                 0.021277\n",
              "\n",
              "[8 rows x 15 columns]"
            ]
          },
          "metadata": {},
          "execution_count": 41
        }
      ]
    },
    {
      "cell_type": "code",
      "metadata": {
        "colab": {
          "base_uri": "https://localhost:8080/"
        },
        "id": "EaT8I0q1R7SH",
        "outputId": "81a8fba2-9240-4fc5-cf73-e9ada0d4e943"
      },
      "source": [
        "print(X['year'].value_counts())\n",
        "row, col = X.shape"
      ],
      "execution_count": null,
      "outputs": [
        {
          "output_type": "stream",
          "name": "stdout",
          "text": [
            "2016.0    17640\n",
            "2017.0    17094\n",
            "2018.0    12102\n",
            "2015.0     9785\n",
            "2019.0     9415\n",
            "2020.0     5660\n",
            "2014.0     3594\n",
            "2013.0     1040\n",
            "2012.0      293\n",
            "Name: year, dtype: int64\n"
          ]
        }
      ]
    },
    {
      "cell_type": "code",
      "metadata": {
        "colab": {
          "base_uri": "https://localhost:8080/"
        },
        "id": "legHBFtUHYSD",
        "outputId": "8e8f5420-74ce-4ae6-b820-43ce95c32bc3"
      },
      "source": [
        "#X_chi = X.select_dtypes(include=['object','category'])\n",
        "X_chi = pd.DataFrame(X['salutations'])\n",
        "X_chi = X_chi.join(X['designation'])\n",
        "X_chi = X_chi.join(X['bcced'])\n",
        "X_chi = X_chi.join(X['day_of_week'])\n",
        "X_chi = X_chi.join(X['year'])\n",
        "X_chi = X_chi.join(X['month'])\n",
        "\n",
        "X.dtypes\n",
        "X_chi.head()\n",
        "#X.describe()\n",
        "#X_chi.shape"
      ],
      "execution_count": null,
      "outputs": [
        {
          "output_type": "execute_result",
          "data": {
            "text/html": [
              "<div>\n",
              "<style scoped>\n",
              "    .dataframe tbody tr th:only-of-type {\n",
              "        vertical-align: middle;\n",
              "    }\n",
              "\n",
              "    .dataframe tbody tr th {\n",
              "        vertical-align: top;\n",
              "    }\n",
              "\n",
              "    .dataframe thead th {\n",
              "        text-align: right;\n",
              "    }\n",
              "</style>\n",
              "<table border=\"1\" class=\"dataframe\">\n",
              "  <thead>\n",
              "    <tr style=\"text-align: right;\">\n",
              "      <th></th>\n",
              "      <th>salutations</th>\n",
              "      <th>designation</th>\n",
              "      <th>bcced</th>\n",
              "      <th>day_of_week</th>\n",
              "      <th>year</th>\n",
              "      <th>month</th>\n",
              "    </tr>\n",
              "  </thead>\n",
              "  <tbody>\n",
              "    <tr>\n",
              "      <th>0</th>\n",
              "      <td>0</td>\n",
              "      <td>0</td>\n",
              "      <td>0</td>\n",
              "      <td>0.0</td>\n",
              "      <td>2017.0</td>\n",
              "      <td>11.0</td>\n",
              "    </tr>\n",
              "    <tr>\n",
              "      <th>1</th>\n",
              "      <td>0</td>\n",
              "      <td>0</td>\n",
              "      <td>0</td>\n",
              "      <td>2.0</td>\n",
              "      <td>2018.0</td>\n",
              "      <td>2.0</td>\n",
              "    </tr>\n",
              "    <tr>\n",
              "      <th>2</th>\n",
              "      <td>0</td>\n",
              "      <td>0</td>\n",
              "      <td>0</td>\n",
              "      <td>2.0</td>\n",
              "      <td>2016.0</td>\n",
              "      <td>7.0</td>\n",
              "    </tr>\n",
              "    <tr>\n",
              "      <th>3</th>\n",
              "      <td>0</td>\n",
              "      <td>0</td>\n",
              "      <td>0</td>\n",
              "      <td>4.0</td>\n",
              "      <td>2019.0</td>\n",
              "      <td>10.0</td>\n",
              "    </tr>\n",
              "    <tr>\n",
              "      <th>4</th>\n",
              "      <td>0</td>\n",
              "      <td>0</td>\n",
              "      <td>0</td>\n",
              "      <td>1.0</td>\n",
              "      <td>2017.0</td>\n",
              "      <td>11.0</td>\n",
              "    </tr>\n",
              "  </tbody>\n",
              "</table>\n",
              "</div>"
            ],
            "text/plain": [
              "   salutations  designation  bcced  day_of_week    year  month\n",
              "0            0            0      0          0.0  2017.0   11.0\n",
              "1            0            0      0          2.0  2018.0    2.0\n",
              "2            0            0      0          2.0  2016.0    7.0\n",
              "3            0            0      0          4.0  2019.0   10.0\n",
              "4            0            0      0          1.0  2017.0   11.0"
            ]
          },
          "metadata": {},
          "execution_count": 43
        }
      ]
    },
    {
      "cell_type": "code",
      "metadata": {
        "colab": {
          "base_uri": "https://localhost:8080/"
        },
        "id": "EQM1nbpNGYFJ",
        "outputId": "06666b87-ba31-406d-e9ea-8b934ca2a99d"
      },
      "source": [
        "from sklearn.feature_selection import chi2\n",
        "\n",
        "chi2(X_chi, y)"
      ],
      "execution_count": null,
      "outputs": [
        {
          "output_type": "execute_result",
          "data": {
            "text/plain": [
              "(array([2916.00494799, 1661.25030948,  114.01569754,  424.1249123 ,\n",
              "           6.94860852,  392.41508468]),\n",
              " array([0.00000000e+00, 0.00000000e+00, 1.34644883e-21, 1.59277545e-87,\n",
              "        4.34250296e-01, 1.00902197e-80]))"
            ]
          },
          "metadata": {},
          "execution_count": 44
        }
      ]
    },
    {
      "cell_type": "code",
      "metadata": {
        "colab": {
          "base_uri": "https://localhost:8080/"
        },
        "id": "EqUu2AwUDEhN",
        "outputId": "5d5cb82f-a533-47a6-c745-dc365491fdb0"
      },
      "source": [
        "X"
      ],
      "execution_count": null,
      "outputs": [
        {
          "output_type": "execute_result",
          "data": {
            "text/html": [
              "<div>\n",
              "<style scoped>\n",
              "    .dataframe tbody tr th:only-of-type {\n",
              "        vertical-align: middle;\n",
              "    }\n",
              "\n",
              "    .dataframe tbody tr th {\n",
              "        vertical-align: top;\n",
              "    }\n",
              "\n",
              "    .dataframe thead th {\n",
              "        text-align: right;\n",
              "    }\n",
              "</style>\n",
              "<table border=\"1\" class=\"dataframe\">\n",
              "  <thead>\n",
              "    <tr style=\"text-align: right;\">\n",
              "      <th></th>\n",
              "      <th>org</th>\n",
              "      <th>tld</th>\n",
              "      <th>ccs</th>\n",
              "      <th>bcced</th>\n",
              "      <th>mail_type</th>\n",
              "      <th>images</th>\n",
              "      <th>urls</th>\n",
              "      <th>salutations</th>\n",
              "      <th>designation</th>\n",
              "      <th>chars_in_subject</th>\n",
              "      <th>chars_in_body</th>\n",
              "      <th>year</th>\n",
              "      <th>month</th>\n",
              "      <th>day_of_week</th>\n",
              "      <th>im_to_char_body-ratio</th>\n",
              "      <th>char_in_sub_to_char_body-ratio</th>\n",
              "      <th>css_to_char_body-ratio</th>\n",
              "      <th>url_to_chars_body-ratio</th>\n",
              "    </tr>\n",
              "  </thead>\n",
              "  <tbody>\n",
              "    <tr>\n",
              "      <th>0</th>\n",
              "      <td>reply</td>\n",
              "      <td>ebay.in</td>\n",
              "      <td>0</td>\n",
              "      <td>0</td>\n",
              "      <td>multipart/alternative</td>\n",
              "      <td>35</td>\n",
              "      <td>120</td>\n",
              "      <td>0</td>\n",
              "      <td>0</td>\n",
              "      <td>49.0</td>\n",
              "      <td>80027</td>\n",
              "      <td>2017.0</td>\n",
              "      <td>11.0</td>\n",
              "      <td>0.0</td>\n",
              "      <td>0.000437</td>\n",
              "      <td>0.000612</td>\n",
              "      <td>0.000000</td>\n",
              "      <td>0.001499</td>\n",
              "    </tr>\n",
              "    <tr>\n",
              "      <th>1</th>\n",
              "      <td>edm</td>\n",
              "      <td>other</td>\n",
              "      <td>0</td>\n",
              "      <td>0</td>\n",
              "      <td>multipart/alternative</td>\n",
              "      <td>1</td>\n",
              "      <td>7</td>\n",
              "      <td>0</td>\n",
              "      <td>0</td>\n",
              "      <td>107.0</td>\n",
              "      <td>2961</td>\n",
              "      <td>2018.0</td>\n",
              "      <td>2.0</td>\n",
              "      <td>2.0</td>\n",
              "      <td>0.000338</td>\n",
              "      <td>0.036136</td>\n",
              "      <td>0.000000</td>\n",
              "      <td>0.002364</td>\n",
              "    </tr>\n",
              "    <tr>\n",
              "      <th>2</th>\n",
              "      <td>usebackpack</td>\n",
              "      <td>com</td>\n",
              "      <td>0</td>\n",
              "      <td>0</td>\n",
              "      <td>text/html</td>\n",
              "      <td>4</td>\n",
              "      <td>17</td>\n",
              "      <td>0</td>\n",
              "      <td>0</td>\n",
              "      <td>35.0</td>\n",
              "      <td>25149</td>\n",
              "      <td>2016.0</td>\n",
              "      <td>7.0</td>\n",
              "      <td>2.0</td>\n",
              "      <td>0.000159</td>\n",
              "      <td>0.001392</td>\n",
              "      <td>0.000000</td>\n",
              "      <td>0.000676</td>\n",
              "    </tr>\n",
              "    <tr>\n",
              "      <th>3</th>\n",
              "      <td>granular</td>\n",
              "      <td>ai</td>\n",
              "      <td>0</td>\n",
              "      <td>0</td>\n",
              "      <td>multipart/mixed</td>\n",
              "      <td>0</td>\n",
              "      <td>0</td>\n",
              "      <td>0</td>\n",
              "      <td>0</td>\n",
              "      <td>15.0</td>\n",
              "      <td>635296</td>\n",
              "      <td>2019.0</td>\n",
              "      <td>10.0</td>\n",
              "      <td>4.0</td>\n",
              "      <td>0.000000</td>\n",
              "      <td>0.000024</td>\n",
              "      <td>0.000000</td>\n",
              "      <td>0.000000</td>\n",
              "    </tr>\n",
              "    <tr>\n",
              "      <th>4</th>\n",
              "      <td>github</td>\n",
              "      <td>com</td>\n",
              "      <td>1</td>\n",
              "      <td>0</td>\n",
              "      <td>multipart/alternative</td>\n",
              "      <td>2</td>\n",
              "      <td>11</td>\n",
              "      <td>0</td>\n",
              "      <td>0</td>\n",
              "      <td>49.0</td>\n",
              "      <td>2355</td>\n",
              "      <td>2017.0</td>\n",
              "      <td>11.0</td>\n",
              "      <td>1.0</td>\n",
              "      <td>0.000849</td>\n",
              "      <td>0.020807</td>\n",
              "      <td>0.000425</td>\n",
              "      <td>0.004671</td>\n",
              "    </tr>\n",
              "    <tr>\n",
              "      <th>...</th>\n",
              "      <td>...</td>\n",
              "      <td>...</td>\n",
              "      <td>...</td>\n",
              "      <td>...</td>\n",
              "      <td>...</td>\n",
              "      <td>...</td>\n",
              "      <td>...</td>\n",
              "      <td>...</td>\n",
              "      <td>...</td>\n",
              "      <td>...</td>\n",
              "      <td>...</td>\n",
              "      <td>...</td>\n",
              "      <td>...</td>\n",
              "      <td>...</td>\n",
              "      <td>...</td>\n",
              "      <td>...</td>\n",
              "      <td>...</td>\n",
              "      <td>...</td>\n",
              "    </tr>\n",
              "    <tr>\n",
              "      <th>76618</th>\n",
              "      <td>amazon</td>\n",
              "      <td>in</td>\n",
              "      <td>0</td>\n",
              "      <td>0</td>\n",
              "      <td>multipart/mixed</td>\n",
              "      <td>0</td>\n",
              "      <td>0</td>\n",
              "      <td>0</td>\n",
              "      <td>0</td>\n",
              "      <td>15.0</td>\n",
              "      <td>4</td>\n",
              "      <td>2017.0</td>\n",
              "      <td>7.0</td>\n",
              "      <td>2.0</td>\n",
              "      <td>0.000000</td>\n",
              "      <td>3.750000</td>\n",
              "      <td>0.000000</td>\n",
              "      <td>0.000000</td>\n",
              "    </tr>\n",
              "    <tr>\n",
              "      <th>76619</th>\n",
              "      <td>quora</td>\n",
              "      <td>com</td>\n",
              "      <td>0</td>\n",
              "      <td>0</td>\n",
              "      <td>multipart/alternative</td>\n",
              "      <td>0</td>\n",
              "      <td>88</td>\n",
              "      <td>1</td>\n",
              "      <td>1</td>\n",
              "      <td>98.0</td>\n",
              "      <td>80913</td>\n",
              "      <td>2015.0</td>\n",
              "      <td>4.0</td>\n",
              "      <td>1.0</td>\n",
              "      <td>0.000000</td>\n",
              "      <td>0.001211</td>\n",
              "      <td>0.000000</td>\n",
              "      <td>0.001088</td>\n",
              "    </tr>\n",
              "    <tr>\n",
              "      <th>76620</th>\n",
              "      <td>github</td>\n",
              "      <td>com</td>\n",
              "      <td>1</td>\n",
              "      <td>0</td>\n",
              "      <td>multipart/alternative</td>\n",
              "      <td>0</td>\n",
              "      <td>8</td>\n",
              "      <td>0</td>\n",
              "      <td>0</td>\n",
              "      <td>91.0</td>\n",
              "      <td>1307</td>\n",
              "      <td>2020.0</td>\n",
              "      <td>6.0</td>\n",
              "      <td>1.0</td>\n",
              "      <td>0.000000</td>\n",
              "      <td>0.069625</td>\n",
              "      <td>0.000765</td>\n",
              "      <td>0.006121</td>\n",
              "    </tr>\n",
              "    <tr>\n",
              "      <th>76621</th>\n",
              "      <td>google</td>\n",
              "      <td>com</td>\n",
              "      <td>0</td>\n",
              "      <td>0</td>\n",
              "      <td>multipart/alternative</td>\n",
              "      <td>27</td>\n",
              "      <td>85</td>\n",
              "      <td>0</td>\n",
              "      <td>0</td>\n",
              "      <td>46.0</td>\n",
              "      <td>28485</td>\n",
              "      <td>2020.0</td>\n",
              "      <td>5.0</td>\n",
              "      <td>1.0</td>\n",
              "      <td>0.000948</td>\n",
              "      <td>0.001615</td>\n",
              "      <td>0.000000</td>\n",
              "      <td>0.002984</td>\n",
              "    </tr>\n",
              "    <tr>\n",
              "      <th>76622</th>\n",
              "      <td>medium</td>\n",
              "      <td>com</td>\n",
              "      <td>0</td>\n",
              "      <td>0</td>\n",
              "      <td>multipart/alternative</td>\n",
              "      <td>32</td>\n",
              "      <td>239</td>\n",
              "      <td>1</td>\n",
              "      <td>1</td>\n",
              "      <td>169.0</td>\n",
              "      <td>105276</td>\n",
              "      <td>2018.0</td>\n",
              "      <td>12.0</td>\n",
              "      <td>4.0</td>\n",
              "      <td>0.000304</td>\n",
              "      <td>0.001605</td>\n",
              "      <td>0.000000</td>\n",
              "      <td>0.002270</td>\n",
              "    </tr>\n",
              "  </tbody>\n",
              "</table>\n",
              "<p>76623 rows × 18 columns</p>\n",
              "</div>"
            ],
            "text/plain": [
              "               org      tld  ...  css_to_char_body-ratio  url_to_chars_body-ratio\n",
              "0            reply  ebay.in  ...                0.000000                 0.001499\n",
              "1              edm    other  ...                0.000000                 0.002364\n",
              "2      usebackpack      com  ...                0.000000                 0.000676\n",
              "3         granular       ai  ...                0.000000                 0.000000\n",
              "4           github      com  ...                0.000425                 0.004671\n",
              "...            ...      ...  ...                     ...                      ...\n",
              "76618       amazon       in  ...                0.000000                 0.000000\n",
              "76619        quora      com  ...                0.000000                 0.001088\n",
              "76620       github      com  ...                0.000765                 0.006121\n",
              "76621       google      com  ...                0.000000                 0.002984\n",
              "76622       medium      com  ...                0.000000                 0.002270\n",
              "\n",
              "[76623 rows x 18 columns]"
            ]
          },
          "metadata": {},
          "execution_count": 45
        }
      ]
    },
    {
      "cell_type": "markdown",
      "metadata": {
        "id": "0-5ZT5Q1-QQ8"
      },
      "source": [
        "#Model selection "
      ]
    },
    {
      "cell_type": "markdown",
      "metadata": {
        "id": "I_Ljjp9X-3iz"
      },
      "source": [
        "###Random Forest "
      ]
    },
    {
      "cell_type": "code",
      "metadata": {
        "id": "TCNMLKt0-y5X"
      },
      "source": [
        "features_to_encode = X.columns[X.dtypes=='object'].tolist()"
      ],
      "execution_count": null,
      "outputs": []
    },
    {
      "cell_type": "code",
      "metadata": {
        "id": "VN9F8Efz-72Z"
      },
      "source": [
        "from sklearn.preprocessing import OneHotEncoder\n",
        "from sklearn.compose import make_column_transformer\n",
        "col_trans = make_column_transformer(\n",
        "                        (OneHotEncoder(),features_to_encode),\n",
        "                        remainder = \"passthrough\")"
      ],
      "execution_count": null,
      "outputs": []
    },
    {
      "cell_type": "code",
      "metadata": {
        "id": "v8fucnRP-76z"
      },
      "source": [
        "from sklearn.ensemble import RandomForestClassifier\n",
        "rf_classifier = RandomForestClassifier(\n",
        "                      min_samples_leaf=50,\n",
        "                      n_estimators=150,\n",
        "                      bootstrap=True,\n",
        "                      oob_score=True,\n",
        "                      n_jobs=-1,\n",
        "                      random_state=50,\n",
        "                      max_features='auto')"
      ],
      "execution_count": null,
      "outputs": []
    },
    {
      "cell_type": "code",
      "metadata": {
        "colab": {
          "base_uri": "https://localhost:8080/",
          "height": 212
        },
        "id": "6mwMGSBC-7_u",
        "outputId": "dcf238a1-2dd4-4a3b-f9c7-66b51863947f"
      },
      "source": [
        "from sklearn.pipeline import make_pipeline\n",
        "pipe = make_pipeline(col_trans, rf_classifier)\n",
        "pipe.fit(x_train, y_train)"
      ],
      "execution_count": null,
      "outputs": [
        {
          "output_type": "error",
          "ename": "NameError",
          "evalue": "ignored",
          "traceback": [
            "\u001b[0;31m---------------------------------------------------------------------------\u001b[0m",
            "\u001b[0;31mNameError\u001b[0m                                 Traceback (most recent call last)",
            "\u001b[0;32m<ipython-input-49-e648d8fef28b>\u001b[0m in \u001b[0;36m<module>\u001b[0;34m()\u001b[0m\n\u001b[1;32m      1\u001b[0m \u001b[0;32mfrom\u001b[0m \u001b[0msklearn\u001b[0m\u001b[0;34m.\u001b[0m\u001b[0mpipeline\u001b[0m \u001b[0;32mimport\u001b[0m \u001b[0mmake_pipeline\u001b[0m\u001b[0;34m\u001b[0m\u001b[0;34m\u001b[0m\u001b[0m\n\u001b[1;32m      2\u001b[0m \u001b[0mpipe\u001b[0m \u001b[0;34m=\u001b[0m \u001b[0mmake_pipeline\u001b[0m\u001b[0;34m(\u001b[0m\u001b[0mcol_trans\u001b[0m\u001b[0;34m,\u001b[0m \u001b[0mrf_classifier\u001b[0m\u001b[0;34m)\u001b[0m\u001b[0;34m\u001b[0m\u001b[0;34m\u001b[0m\u001b[0m\n\u001b[0;32m----> 3\u001b[0;31m \u001b[0mpipe\u001b[0m\u001b[0;34m.\u001b[0m\u001b[0mfit\u001b[0m\u001b[0;34m(\u001b[0m\u001b[0mx_train\u001b[0m\u001b[0;34m,\u001b[0m \u001b[0my_train\u001b[0m\u001b[0;34m)\u001b[0m\u001b[0;34m\u001b[0m\u001b[0;34m\u001b[0m\u001b[0m\n\u001b[0m",
            "\u001b[0;31mNameError\u001b[0m: name 'x_train' is not defined"
          ]
        }
      ]
    },
    {
      "cell_type": "code",
      "metadata": {
        "id": "hx39V_OW-8Em"
      },
      "source": [
        "y_pred_rf = pipe.predict(x_test)"
      ],
      "execution_count": null,
      "outputs": []
    },
    {
      "cell_type": "code",
      "metadata": {
        "id": "KzqjLm3LArZh"
      },
      "source": [
        "#Get accuracy \n",
        "from sklearn.metrics import accuracy_score\n",
        "\n",
        "print('Accuracy is ' + str(accuracy_score(y_test,y_pred_rf)))"
      ],
      "execution_count": null,
      "outputs": []
    },
    {
      "cell_type": "markdown",
      "metadata": {
        "id": "Vg7UF5Dq-9RN"
      },
      "source": [
        "###Logistic Regression "
      ]
    },
    {
      "cell_type": "code",
      "metadata": {
        "id": "t0MPOD4h-8Mh"
      },
      "source": [
        "X_t = X\n",
        "X_t = pd.get_dummies(X_t, columns=['mail_type'])\n",
        "X_t = pd.get_dummies(X_t, columns=['tld'])\n",
        "X_t = pd.get_dummies(X_t, columns=['org'])\n"
      ],
      "execution_count": null,
      "outputs": []
    },
    {
      "cell_type": "code",
      "metadata": {
        "id": "ng_qcFMB_Axj"
      },
      "source": [
        "X_t"
      ],
      "execution_count": null,
      "outputs": []
    },
    {
      "cell_type": "code",
      "metadata": {
        "id": "x1S6ZaPEBIBG"
      },
      "source": [
        "from sklearn.decomposition import PCA\n",
        "from sklearn.linear_model import LogisticRegression\n",
        "from sklearn import metrics\n",
        "from sklearn.preprocessing import StandardScaler"
      ],
      "execution_count": null,
      "outputs": []
    },
    {
      "cell_type": "code",
      "metadata": {
        "id": "9OAlHUDdBIJ1"
      },
      "source": [
        "X_train, X_test, y_train, y_test = train_test_split(X_t, y, test_size=0.1, random_state=1, stratify=y)"
      ],
      "execution_count": null,
      "outputs": []
    },
    {
      "cell_type": "code",
      "metadata": {
        "id": "-gV-CKPSIz4r"
      },
      "source": [
        "X_train"
      ],
      "execution_count": null,
      "outputs": []
    },
    {
      "cell_type": "code",
      "metadata": {
        "id": "H3TGtgms_A2c"
      },
      "source": [
        "#Feature scaling\n",
        "sc = StandardScaler()\n",
        "sc.fit(X_train)\n",
        "X_train_std = sc.transform(X_train)\n",
        "X_test_std = sc.transform(X_test)"
      ],
      "execution_count": null,
      "outputs": []
    },
    {
      "cell_type": "code",
      "metadata": {
        "id": "AItoVcmv_A-s"
      },
      "source": [
        "# Make an instance of the Model\n",
        "pca = PCA(.95)"
      ],
      "execution_count": null,
      "outputs": []
    },
    {
      "cell_type": "code",
      "metadata": {
        "id": "52PCwyrb_BDj"
      },
      "source": [
        "pca.fit(X_train_std)"
      ],
      "execution_count": null,
      "outputs": []
    },
    {
      "cell_type": "code",
      "metadata": {
        "id": "6psaqHrPEAkS"
      },
      "source": [
        "train_pca = pca.transform(X_train_std)\n",
        "test_pca = pca.transform(X_test_std)"
      ],
      "execution_count": null,
      "outputs": []
    },
    {
      "cell_type": "code",
      "metadata": {
        "id": "9W05jf2CEAx7"
      },
      "source": [
        "logreg = LogisticRegression()\n",
        "logreg.fit(train_pca, y_train.values.ravel())"
      ],
      "execution_count": null,
      "outputs": []
    },
    {
      "cell_type": "code",
      "metadata": {
        "id": "8TeZ_O8iEA6C"
      },
      "source": [
        "y_pred_logreg = logreg.predict(test_pca)"
      ],
      "execution_count": null,
      "outputs": []
    },
    {
      "cell_type": "code",
      "metadata": {
        "id": "fRRJyx_rELrc"
      },
      "source": [
        "print('Accuracy ' + str(accuracy_score(y_test,y_pred_logreg)))"
      ],
      "execution_count": null,
      "outputs": []
    },
    {
      "cell_type": "markdown",
      "metadata": {
        "id": "1RnlrQ-5Euod"
      },
      "source": [
        "###Decision Tree"
      ]
    },
    {
      "cell_type": "code",
      "metadata": {
        "id": "J1bz9w9gEtha"
      },
      "source": [
        "from sklearn.tree import DecisionTreeClassifier # Import Decision Tree Classifier"
      ],
      "execution_count": null,
      "outputs": []
    },
    {
      "cell_type": "code",
      "metadata": {
        "id": "0DnKvPwBEt2X"
      },
      "source": [
        "clf = DecisionTreeClassifier()\n",
        "\n",
        "# Train Decision Tree Classifer\n",
        "clf = clf.fit(X_train,y_train)\n",
        "\n",
        "#Predict the response for test dataset\n",
        "y_pred = clf.predict(X_test)"
      ],
      "execution_count": null,
      "outputs": []
    },
    {
      "cell_type": "code",
      "metadata": {
        "id": "yGku33QsEznS"
      },
      "source": [
        "print('Accuracy ' + str(accuracy_score(y_test,y_pred)))"
      ],
      "execution_count": null,
      "outputs": []
    },
    {
      "cell_type": "markdown",
      "metadata": {
        "id": "ACYgQWf4_JQ5"
      },
      "source": [
        "###CatBoost"
      ]
    },
    {
      "cell_type": "code",
      "metadata": {
        "id": "yty1B_vf_IM1"
      },
      "source": [
        "from sklearn.model_selection import train_test_split\n",
        "from sklearn.model_selection import ShuffleSplit\n",
        "from sklearn.linear_model import LinearRegression, LassoCV, Ridge, LassoLarsCV,ElasticNetCV\n",
        "from sklearn.model_selection import GridSearchCV, cross_val_score, learning_curve\n",
        "from sklearn.ensemble import RandomForestRegressor, AdaBoostRegressor, ExtraTreesRegressor, GradientBoostingRegressor\n",
        "from sklearn.preprocessing import StandardScaler, Normalizer, RobustScaler\n",
        "import matplotlib.patches as mpatches\n",
        "\n",
        "from sklearn.metrics import confusion_matrix\n",
        "from sklearn.metrics import classification_report"
      ],
      "execution_count": null,
      "outputs": []
    },
    {
      "cell_type": "code",
      "metadata": {
        "id": "71bOyU0J_K6O"
      },
      "source": [
        "#!pip install catboost"
      ],
      "execution_count": null,
      "outputs": []
    },
    {
      "cell_type": "code",
      "metadata": {
        "id": "q2no1FVFGalE"
      },
      "source": [
        "X"
      ],
      "execution_count": null,
      "outputs": []
    },
    {
      "cell_type": "code",
      "metadata": {
        "id": "EBfhhIrU_LBP"
      },
      "source": [
        "#Changing data types\n",
        "X['org'] = X['org'].astype('|S')\n",
        "X['tld'] = X['tld'].astype('|S')\n",
        "#X['mail_type_1'] = X['mail_type_1'].astype('|S')\n",
        "X['mail_type'] = X['mail_type'].astype('|S')"
      ],
      "execution_count": null,
      "outputs": []
    },
    {
      "cell_type": "code",
      "metadata": {
        "id": "rvHr6cCT_LKy"
      },
      "source": [
        "label = y\n",
        "train = X\n",
        "x_train, x_test, y_train, y_test = train_test_split(train, label, test_size=0.1, random_state=2)"
      ],
      "execution_count": null,
      "outputs": []
    },
    {
      "cell_type": "code",
      "metadata": {
        "id": "t8NLX4zd_LUC",
        "colab": {
          "base_uri": "https://localhost:8080/"
        },
        "outputId": "8481c916-30b3-4184-e3d6-dc3c623ab265"
      },
      "source": [
        "from catboost import CatBoostClassifier, Pool\n",
        "\n",
        "#indicating which features are not categorical\n",
        "categorical_features_indices = np.where(train.dtypes != np.float)[0]\n",
        "train_pool = Pool(x_train, y_train, cat_features=categorical_features_indices)\n",
        "\n",
        "#actual model\n",
        "cat = CatBoostClassifier(iterations=80, learning_rate=0.1, depth=10, one_hot_max_size=500)\n",
        "cat.fit(train_pool)\n",
        "\n",
        "#make prediction for evaluation\n",
        "y_pred_cat = cat.predict(x_test)"
      ],
      "execution_count": null,
      "outputs": [
        {
          "output_type": "stream",
          "name": "stderr",
          "text": [
            "Custom logger is already specified. Specify more than one logger at same time is not thread safe."
          ]
        },
        {
          "output_type": "stream",
          "name": "stdout",
          "text": [
            "0:\tlearn: 1.8504111\ttotal: 767ms\tremaining: 1m\n",
            "1:\tlearn: 1.6942353\ttotal: 1.5s\tremaining: 58.4s\n",
            "2:\tlearn: 1.5707138\ttotal: 2.27s\tremaining: 58.2s\n",
            "3:\tlearn: 1.4734290\ttotal: 3.01s\tremaining: 57.3s\n",
            "4:\tlearn: 1.3930749\ttotal: 3.72s\tremaining: 55.8s\n",
            "5:\tlearn: 1.3274431\ttotal: 4.47s\tremaining: 55.1s\n",
            "6:\tlearn: 1.2746550\ttotal: 5.22s\tremaining: 54.5s\n",
            "7:\tlearn: 1.2256001\ttotal: 5.92s\tremaining: 53.3s\n",
            "8:\tlearn: 1.1820130\ttotal: 6.66s\tremaining: 52.6s\n",
            "9:\tlearn: 1.1438006\ttotal: 7.38s\tremaining: 51.7s\n",
            "10:\tlearn: 1.1146697\ttotal: 8.1s\tremaining: 50.8s\n",
            "11:\tlearn: 1.0849030\ttotal: 8.83s\tremaining: 50s\n",
            "12:\tlearn: 1.0606381\ttotal: 9.56s\tremaining: 49.3s\n",
            "13:\tlearn: 1.0366019\ttotal: 10.3s\tremaining: 48.5s\n",
            "14:\tlearn: 1.0177399\ttotal: 11s\tremaining: 47.6s\n",
            "15:\tlearn: 0.9983486\ttotal: 11.7s\tremaining: 46.7s\n",
            "16:\tlearn: 0.9828551\ttotal: 12.4s\tremaining: 45.9s\n",
            "17:\tlearn: 0.9677328\ttotal: 13.1s\tremaining: 45.2s\n",
            "18:\tlearn: 0.9550104\ttotal: 13.9s\tremaining: 44.5s\n",
            "19:\tlearn: 0.9419867\ttotal: 14.6s\tremaining: 43.7s\n",
            "20:\tlearn: 0.9238505\ttotal: 15.3s\tremaining: 43.1s\n",
            "21:\tlearn: 0.9100791\ttotal: 16.1s\tremaining: 42.3s\n",
            "22:\tlearn: 0.8968509\ttotal: 16.8s\tremaining: 41.6s\n",
            "23:\tlearn: 0.8855487\ttotal: 17.5s\tremaining: 40.9s\n",
            "24:\tlearn: 0.8752364\ttotal: 18.2s\tremaining: 40.1s\n",
            "25:\tlearn: 0.8662416\ttotal: 18.9s\tremaining: 39.3s\n",
            "26:\tlearn: 0.8582769\ttotal: 19.7s\tremaining: 38.6s\n",
            "27:\tlearn: 0.8509942\ttotal: 20.4s\tremaining: 37.9s\n",
            "28:\tlearn: 0.8441693\ttotal: 21.1s\tremaining: 37.1s\n",
            "29:\tlearn: 0.8379089\ttotal: 21.8s\tremaining: 36.4s\n",
            "30:\tlearn: 0.8337062\ttotal: 22.6s\tremaining: 35.7s\n",
            "31:\tlearn: 0.8284367\ttotal: 23.3s\tremaining: 35s\n",
            "32:\tlearn: 0.8231424\ttotal: 24.1s\tremaining: 34.3s\n",
            "33:\tlearn: 0.8181896\ttotal: 24.8s\tremaining: 33.6s\n",
            "34:\tlearn: 0.8148134\ttotal: 25.6s\tremaining: 32.9s\n",
            "35:\tlearn: 0.8112161\ttotal: 26.3s\tremaining: 32.2s\n",
            "36:\tlearn: 0.8075458\ttotal: 27.1s\tremaining: 31.4s\n",
            "37:\tlearn: 0.8037787\ttotal: 27.8s\tremaining: 30.7s\n",
            "38:\tlearn: 0.7989409\ttotal: 28.5s\tremaining: 30s\n",
            "39:\tlearn: 0.7969543\ttotal: 29.2s\tremaining: 29.2s\n",
            "40:\tlearn: 0.7940683\ttotal: 30s\tremaining: 28.5s\n",
            "41:\tlearn: 0.7919546\ttotal: 30.8s\tremaining: 27.8s\n",
            "42:\tlearn: 0.7896727\ttotal: 31.5s\tremaining: 27.1s\n",
            "43:\tlearn: 0.7878890\ttotal: 32.2s\tremaining: 26.4s\n",
            "44:\tlearn: 0.7853586\ttotal: 33s\tremaining: 25.7s\n",
            "45:\tlearn: 0.7828948\ttotal: 33.8s\tremaining: 24.9s\n",
            "46:\tlearn: 0.7813818\ttotal: 34.5s\tremaining: 24.2s\n",
            "47:\tlearn: 0.7790313\ttotal: 35.2s\tremaining: 23.5s\n",
            "48:\tlearn: 0.7773990\ttotal: 36s\tremaining: 22.8s\n",
            "49:\tlearn: 0.7756814\ttotal: 36.7s\tremaining: 22s\n",
            "50:\tlearn: 0.7734148\ttotal: 37.4s\tremaining: 21.3s\n",
            "51:\tlearn: 0.7716863\ttotal: 38.2s\tremaining: 20.6s\n",
            "52:\tlearn: 0.7699155\ttotal: 38.9s\tremaining: 19.8s\n",
            "53:\tlearn: 0.7686657\ttotal: 39.6s\tremaining: 19.1s\n",
            "54:\tlearn: 0.7663702\ttotal: 40.4s\tremaining: 18.3s\n",
            "55:\tlearn: 0.7649923\ttotal: 41.1s\tremaining: 17.6s\n",
            "56:\tlearn: 0.7632137\ttotal: 41.8s\tremaining: 16.9s\n",
            "57:\tlearn: 0.7613051\ttotal: 42.5s\tremaining: 16.1s\n",
            "58:\tlearn: 0.7601445\ttotal: 43.2s\tremaining: 15.4s\n",
            "59:\tlearn: 0.7591404\ttotal: 44s\tremaining: 14.7s\n",
            "60:\tlearn: 0.7573111\ttotal: 44.7s\tremaining: 13.9s\n",
            "61:\tlearn: 0.7556156\ttotal: 45.4s\tremaining: 13.2s\n",
            "62:\tlearn: 0.7540106\ttotal: 46.2s\tremaining: 12.5s\n",
            "63:\tlearn: 0.7526785\ttotal: 46.9s\tremaining: 11.7s\n",
            "64:\tlearn: 0.7515060\ttotal: 47.6s\tremaining: 11s\n",
            "65:\tlearn: 0.7507518\ttotal: 48.4s\tremaining: 10.3s\n",
            "66:\tlearn: 0.7491539\ttotal: 49.1s\tremaining: 9.53s\n",
            "67:\tlearn: 0.7470249\ttotal: 49.9s\tremaining: 8.8s\n",
            "68:\tlearn: 0.7462320\ttotal: 50.6s\tremaining: 8.07s\n",
            "69:\tlearn: 0.7443611\ttotal: 51.4s\tremaining: 7.34s\n",
            "70:\tlearn: 0.7427417\ttotal: 52.1s\tremaining: 6.6s\n",
            "71:\tlearn: 0.7408075\ttotal: 52.8s\tremaining: 5.87s\n",
            "72:\tlearn: 0.7401139\ttotal: 53.5s\tremaining: 5.13s\n",
            "73:\tlearn: 0.7388805\ttotal: 54.2s\tremaining: 4.4s\n",
            "74:\tlearn: 0.7377988\ttotal: 55s\tremaining: 3.67s\n",
            "75:\tlearn: 0.7376551\ttotal: 55.2s\tremaining: 2.9s\n",
            "76:\tlearn: 0.7363903\ttotal: 55.9s\tremaining: 2.18s\n",
            "77:\tlearn: 0.7356228\ttotal: 56.7s\tremaining: 1.45s\n",
            "78:\tlearn: 0.7341104\ttotal: 57.4s\tremaining: 726ms\n",
            "79:\tlearn: 0.7325890\ttotal: 58.1s\tremaining: 0us\n"
          ]
        }
      ]
    },
    {
      "cell_type": "code",
      "metadata": {
        "id": "HUT1Pnru_LwG"
      },
      "source": [
        "print('Accuracy ' + str(accuracy_score(y_test, y_pred_cat)))"
      ],
      "execution_count": null,
      "outputs": []
    },
    {
      "cell_type": "markdown",
      "metadata": {
        "id": "EOztKcLtKDSx"
      },
      "source": [
        "We can clearly see that catboost is the best model here. Therefore, we will try to tune the Catboost model in order to improve its accuracy."
      ]
    },
    {
      "cell_type": "markdown",
      "metadata": {
        "id": "mdnqd6V-uRBO"
      },
      "source": [
        "# Tuning of our best model "
      ]
    },
    {
      "cell_type": "code",
      "metadata": {
        "colab": {
          "base_uri": "https://localhost:8080/"
        },
        "id": "TQbvOax-9mmK",
        "outputId": "4a105343-a318-4c48-9e56-07589a41d8c6"
      },
      "source": [
        "!pip install catboost"
      ],
      "execution_count": null,
      "outputs": [
        {
          "output_type": "stream",
          "name": "stdout",
          "text": [
            "Collecting catboost\n",
            "  Downloading catboost-1.0.3-cp37-none-manylinux1_x86_64.whl (76.3 MB)\n",
            "\u001b[K     |████████████████████████████████| 76.3 MB 1.2 MB/s \n",
            "\u001b[?25hRequirement already satisfied: graphviz in /usr/local/lib/python3.7/dist-packages (from catboost) (0.10.1)\n",
            "Requirement already satisfied: scipy in /usr/local/lib/python3.7/dist-packages (from catboost) (1.4.1)\n",
            "Requirement already satisfied: matplotlib in /usr/local/lib/python3.7/dist-packages (from catboost) (3.2.2)\n",
            "Requirement already satisfied: pandas>=0.24.0 in /usr/local/lib/python3.7/dist-packages (from catboost) (1.1.5)\n",
            "Requirement already satisfied: plotly in /usr/local/lib/python3.7/dist-packages (from catboost) (4.4.1)\n",
            "Requirement already satisfied: six in /usr/local/lib/python3.7/dist-packages (from catboost) (1.15.0)\n",
            "Requirement already satisfied: numpy>=1.16.0 in /usr/local/lib/python3.7/dist-packages (from catboost) (1.19.5)\n",
            "Requirement already satisfied: pytz>=2017.2 in /usr/local/lib/python3.7/dist-packages (from pandas>=0.24.0->catboost) (2018.9)\n",
            "Requirement already satisfied: python-dateutil>=2.7.3 in /usr/local/lib/python3.7/dist-packages (from pandas>=0.24.0->catboost) (2.8.2)\n",
            "Requirement already satisfied: cycler>=0.10 in /usr/local/lib/python3.7/dist-packages (from matplotlib->catboost) (0.11.0)\n",
            "Requirement already satisfied: pyparsing!=2.0.4,!=2.1.2,!=2.1.6,>=2.0.1 in /usr/local/lib/python3.7/dist-packages (from matplotlib->catboost) (3.0.6)\n",
            "Requirement already satisfied: kiwisolver>=1.0.1 in /usr/local/lib/python3.7/dist-packages (from matplotlib->catboost) (1.3.2)\n",
            "Requirement already satisfied: retrying>=1.3.3 in /usr/local/lib/python3.7/dist-packages (from plotly->catboost) (1.3.3)\n",
            "Installing collected packages: catboost\n",
            "Successfully installed catboost-1.0.3\n"
          ]
        }
      ]
    },
    {
      "cell_type": "code",
      "metadata": {
        "colab": {
          "base_uri": "https://localhost:8080/",
          "height": 249
        },
        "id": "Jak8_XRDSjJO",
        "outputId": "0d9fa20c-f1da-4d5b-80b0-91433198de21"
      },
      "source": [
        "from catboost import CatBoostClassifier, Pool\n",
        "\n",
        "#indicating which features are not categorical\n",
        "categorical_features_indices = np.where(train.dtypes != np.float)[0]\n",
        "\n",
        "#X, y is for the final submission to include all data for testing\n",
        "#Use x_train, y_train to use the train/test split\n",
        "train_pool = Pool(x_train, y_train, cat_features=categorical_features_indices)\n",
        "\n",
        "#actual model\n",
        "cat = CatBoostClassifier(iterations=311, learning_rate=0.2, depth=10, one_hot_max_size=500)\n",
        "cat.fit(train_pool)\n",
        "\n",
        "#make prediction for evaluation\n",
        "y_pred_cat = cat.predict(x_test)"
      ],
      "execution_count": null,
      "outputs": [
        {
          "output_type": "error",
          "ename": "NameError",
          "evalue": "ignored",
          "traceback": [
            "\u001b[0;31m---------------------------------------------------------------------------\u001b[0m",
            "\u001b[0;31mNameError\u001b[0m                                 Traceback (most recent call last)",
            "\u001b[0;32m<ipython-input-52-9e68405d2e7a>\u001b[0m in \u001b[0;36m<module>\u001b[0;34m()\u001b[0m\n\u001b[1;32m      2\u001b[0m \u001b[0;34m\u001b[0m\u001b[0m\n\u001b[1;32m      3\u001b[0m \u001b[0;31m#indicating which features are not categorical\u001b[0m\u001b[0;34m\u001b[0m\u001b[0;34m\u001b[0m\u001b[0;34m\u001b[0m\u001b[0m\n\u001b[0;32m----> 4\u001b[0;31m \u001b[0mcategorical_features_indices\u001b[0m \u001b[0;34m=\u001b[0m \u001b[0mnp\u001b[0m\u001b[0;34m.\u001b[0m\u001b[0mwhere\u001b[0m\u001b[0;34m(\u001b[0m\u001b[0mtrain\u001b[0m\u001b[0;34m.\u001b[0m\u001b[0mdtypes\u001b[0m \u001b[0;34m!=\u001b[0m \u001b[0mnp\u001b[0m\u001b[0;34m.\u001b[0m\u001b[0mfloat\u001b[0m\u001b[0;34m)\u001b[0m\u001b[0;34m[\u001b[0m\u001b[0;36m0\u001b[0m\u001b[0;34m]\u001b[0m\u001b[0;34m\u001b[0m\u001b[0;34m\u001b[0m\u001b[0m\n\u001b[0m\u001b[1;32m      5\u001b[0m \u001b[0;34m\u001b[0m\u001b[0m\n\u001b[1;32m      6\u001b[0m \u001b[0;31m#X, y is for the final submission to include all data for testing\u001b[0m\u001b[0;34m\u001b[0m\u001b[0;34m\u001b[0m\u001b[0;34m\u001b[0m\u001b[0m\n",
            "\u001b[0;31mNameError\u001b[0m: name 'train' is not defined"
          ]
        }
      ]
    },
    {
      "cell_type": "code",
      "metadata": {
        "id": "kVw_duJoSntU"
      },
      "source": [
        "\n",
        "#get accuracy\n",
        "\n",
        "from sklearn.metrics import accuracy_score\n",
        "\n",
        "print('Accuracy ' + str(accuracy_score(y_test, y_pred_cat)))"
      ],
      "execution_count": null,
      "outputs": []
    },
    {
      "cell_type": "markdown",
      "metadata": {
        "id": "ytWFKqg_UAcH"
      },
      "source": [
        "#Get the prediction on for the test dataset\n"
      ]
    },
    {
      "cell_type": "markdown",
      "metadata": {
        "id": "zAOXXdMsVsMZ"
      },
      "source": [
        "###Processing of the test dataset"
      ]
    },
    {
      "cell_type": "code",
      "metadata": {
        "id": "3z_ZhSNwUDp7"
      },
      "source": [
        "test_df = pd.read_csv('/content/drive/My Drive/Assignment3-Kaggle/test.csv', index_col=0)"
      ],
      "execution_count": null,
      "outputs": []
    },
    {
      "cell_type": "code",
      "metadata": {
        "id": "EbSNcFFcl0sR"
      },
      "source": [
        "len(test_df)"
      ],
      "execution_count": null,
      "outputs": []
    },
    {
      "cell_type": "code",
      "metadata": {
        "id": "YbxHYHMJll1s"
      },
      "source": [
        "test_df.dtypes"
      ],
      "execution_count": null,
      "outputs": []
    },
    {
      "cell_type": "code",
      "metadata": {
        "id": "Wml_3uggWKEC"
      },
      "source": [
        "len(test_df)"
      ],
      "execution_count": null,
      "outputs": []
    },
    {
      "cell_type": "code",
      "metadata": {
        "id": "4BdRrebUUOlq"
      },
      "source": [
        "datetime_type = []\n",
        "for i in range(len(test_df)):\n",
        "    datetime_type.append(date(test_df['date'][i], i))"
      ],
      "execution_count": null,
      "outputs": []
    },
    {
      "cell_type": "code",
      "metadata": {
        "id": "26MDDGSNSjyA"
      },
      "source": [
        "for col in test_df.select_dtypes(include=['object','category']).columns.tolist():\n",
        "        test_df[col]=test_df[col].str.lower()"
      ],
      "execution_count": null,
      "outputs": []
    },
    {
      "cell_type": "code",
      "metadata": {
        "id": "iIKdUty8UOr6"
      },
      "source": [
        "\n",
        "to_drop = []\n",
        "for i in range(len(datetime_type)):\n",
        "    if type(datetime_type[i]) != datetime.datetime:\n",
        "        to_drop.append(i)\n",
        "to_drop[0]"
      ],
      "execution_count": null,
      "outputs": []
    },
    {
      "cell_type": "code",
      "metadata": {
        "id": "0rxuZd0eUO5B"
      },
      "source": [
        "\n",
        "for i in range(len(test_df)):\n",
        "    test_df['date'][i] = datetime_type[i]"
      ],
      "execution_count": null,
      "outputs": []
    },
    {
      "cell_type": "code",
      "metadata": {
        "id": "55TIczXKUPAJ"
      },
      "source": [
        "test_df['year'] = np.zeros(len(test_df))\n",
        "test_df['month'] = np.zeros(len(test_df))\n",
        "#test_df['day'] = np.zeros(len(test_df))\n",
        "test_df['day_of_week'] = np.zeros(len(test_df))\n",
        "#test_df['hour'] = np.zeros(len(test_df))"
      ],
      "execution_count": null,
      "outputs": []
    },
    {
      "cell_type": "code",
      "metadata": {
        "id": "zFfvj6eGa0Qw"
      },
      "source": [
        "#type(to_drop[0])\n",
        "type(len(test_df))"
      ],
      "execution_count": null,
      "outputs": []
    },
    {
      "cell_type": "code",
      "metadata": {
        "id": "oAYnQ0JhZWGF"
      },
      "source": [
        "#assign values to the new variables \n",
        "test_df['year'][to_drop[0]] =  0\n",
        "test_df['month'][to_drop[0]] =  0\n",
        "#test_df['day'][to_drop[0]] =  0\n",
        "#test_df['hour'][to_drop[0]] =  0\n",
        "#train_df['minute'][to_drop[0]] =  0\n",
        "#train_df['timezone'][to_drop[0]] =  0\n",
        "test_df['day_of_week'][to_drop[0]] = 0\n",
        "\n",
        "\n",
        "#range(to_drop[0]) + range(to_drop[0],len(test_df))\n",
        "for i in [x for x in range(len(test_df)) if x != to_drop[0]]:\n",
        "    test_df['year'][i] =  test_df['date'][i].year\n",
        "    test_df['month'][i] =  test_df['date'][i].month\n",
        "    #test_df['day'][i] =  test_df['date'][i].day\n",
        "    #test_df['hour'][i] =  test_df['date'][i].hour\n",
        "    #train_df['minute'][i] =  train_df['date'][i].minute\n",
        "    #train_df['timezone'][i] =  train_df['date'][i].tzinfo\n",
        "    test_df['day_of_week'][i] = test_df['date'][i].weekday()"
      ],
      "execution_count": null,
      "outputs": []
    },
    {
      "cell_type": "code",
      "metadata": {
        "id": "VfNThVAvU6p2"
      },
      "source": [
        "test_df = test_df.drop('date', axis = 1)"
      ],
      "execution_count": null,
      "outputs": []
    },
    {
      "cell_type": "code",
      "metadata": {
        "id": "F7zVU3G5UPHG"
      },
      "source": [
        "test_df"
      ],
      "execution_count": null,
      "outputs": []
    },
    {
      "cell_type": "code",
      "metadata": {
        "id": "ksqG6qFdWli6"
      },
      "source": [
        "org_freq = (test_df['org'].value_counts())/test_df.shape[0]\n",
        "bottom_decile = org_freq.quantile(q=0.9)\n",
        "less_freq_org = org_freq[org_freq<=bottom_decile]\n",
        "test_df.loc[test_df['org'].isin(less_freq_org.index.tolist()),'org'] = \"other\"\n",
        "print(test_df['org'].value_counts())"
      ],
      "execution_count": null,
      "outputs": []
    },
    {
      "cell_type": "code",
      "metadata": {
        "id": "ywhi-rE2W4V1"
      },
      "source": [
        "# tld Converting the 10% least frequent variable to other\n",
        "tld_freq = (test_df['tld'].value_counts())/test_df.shape[0]\n",
        "bottom_decile = tld_freq.quantile(q=0.9)\n",
        "less_freq_tld = tld_freq[tld_freq<=bottom_decile]\n",
        "test_df.loc[test_df['tld'].isin(less_freq_tld.index.tolist()),'tld'] = \"other\"\n",
        "print(test_df['tld'].value_counts())"
      ],
      "execution_count": null,
      "outputs": []
    },
    {
      "cell_type": "code",
      "metadata": {
        "id": "d4vBUKD4gFx-"
      },
      "source": [
        "test_df['chars_in_subject'] = test_df['chars_in_subject'].fillna(test_df['chars_in_subject'].median())\n",
        "test_df['org'] = test_df['org'].fillna('NaN')\n",
        "test_df['tld'] = test_df['tld'].fillna('NaN')\n",
        "test_df['mail_type'] = test_df['mail_type'].fillna('NaN')"
      ],
      "execution_count": null,
      "outputs": []
    },
    {
      "cell_type": "code",
      "metadata": {
        "id": "wymUsdXagVSm"
      },
      "source": [
        "test_df.isnull().sum()"
      ],
      "execution_count": null,
      "outputs": []
    },
    {
      "cell_type": "code",
      "metadata": {
        "id": "8Je-84Jlh8KM"
      },
      "source": [
        "x_train.dtypes"
      ],
      "execution_count": null,
      "outputs": []
    },
    {
      "cell_type": "code",
      "metadata": {
        "id": "7SVLgfMUh8TZ"
      },
      "source": [
        "test_df.dtypes"
      ],
      "execution_count": null,
      "outputs": []
    },
    {
      "cell_type": "code",
      "metadata": {
        "id": "HAyCGjqjt19Y"
      },
      "source": [
        "#image to chars-in-body\n",
        "test_df['im_to_char_body-ratio'] = test_df['images'].astype(float)/test_df['chars_in_body'].astype(float)\n",
        "\n",
        "#chars-in-subject to chars in body\n",
        "test_df['char_in_sub_to_char_body-ratio'] = test_df['chars_in_subject'].astype(float)/test_df['chars_in_body'].astype(float)\n",
        "\n",
        "#ccs to chars in body\n",
        "test_df['css_to_char_body-ratio'] = test_df['ccs'].astype(float)/test_df['chars_in_body'].astype(float)\n",
        "\n",
        "#urls to chars in body\n",
        "test_df['url_to_chars_body-ratio'] = test_df['urls'].astype(float)/test_df['chars_in_body'].astype(float)"
      ],
      "execution_count": null,
      "outputs": []
    },
    {
      "cell_type": "code",
      "metadata": {
        "id": "JEEfg5FGuJol"
      },
      "source": [
        "#Changing data types\n",
        "test_df['org'] = test_df['org'].astype('|S')\n",
        "test_df['tld'] = test_df['tld'].astype('|S')\n",
        "test_df['mail_type'] = test_df['mail_type'].astype('|S')\n",
        "train.dtypes"
      ],
      "execution_count": null,
      "outputs": []
    },
    {
      "cell_type": "markdown",
      "metadata": {
        "id": "coqI2r6xV79r"
      },
      "source": [
        "###Prediction on the test dateset with our best performing model "
      ]
    },
    {
      "cell_type": "code",
      "metadata": {
        "id": "BPorQx07UPVP"
      },
      "source": [
        "\n",
        "#make prediction for evaluation\n",
        "y_pred_cat = cat.predict(test_df)\n",
        "\n",
        "#make prediction for evaluation\n",
        "#y_pred_cat = cat.predict(train_df)"
      ],
      "execution_count": null,
      "outputs": []
    },
    {
      "cell_type": "code",
      "metadata": {
        "id": "ExQnfPY5h6Qa"
      },
      "source": [
        "y_pred_cat"
      ],
      "execution_count": null,
      "outputs": []
    },
    {
      "cell_type": "code",
      "metadata": {
        "id": "EEfgD2KyUPcJ"
      },
      "source": [
        "results = []\n",
        "type(test_df)"
      ],
      "execution_count": null,
      "outputs": []
    },
    {
      "cell_type": "code",
      "metadata": {
        "id": "Tyczt2aWusMr"
      },
      "source": [
        "print(len(y_pred_cat))"
      ],
      "execution_count": null,
      "outputs": []
    },
    {
      "cell_type": "code",
      "metadata": {
        "id": "XCVQjdcOUPjG"
      },
      "source": [
        "results = y_pred_cat\n",
        "print(results)"
      ],
      "execution_count": null,
      "outputs": []
    },
    {
      "cell_type": "code",
      "metadata": {
        "id": "eGa0V-ZSUPp2"
      },
      "source": [
        "results_df = pd.DataFrame(results)"
      ],
      "execution_count": null,
      "outputs": []
    },
    {
      "cell_type": "code",
      "metadata": {
        "id": "fOD_xwbyunVW"
      },
      "source": [
        "results_df = results_df.rename(columns={0: 'label'})\n",
        "results_df.head()"
      ],
      "execution_count": null,
      "outputs": []
    },
    {
      "cell_type": "code",
      "metadata": {
        "id": "yCjpPx60qhiV"
      },
      "source": [
        "#results = results.drop('prediction', axis = 1)\n",
        "results_df['ID'] = results_df.index"
      ],
      "execution_count": null,
      "outputs": []
    },
    {
      "cell_type": "code",
      "metadata": {
        "id": "QywVyY0oUP6V"
      },
      "source": [
        "results_df=results_df[['ID','label']]"
      ],
      "execution_count": null,
      "outputs": []
    },
    {
      "cell_type": "code",
      "metadata": {
        "id": "yKKSRoTZrrLs"
      },
      "source": [
        "results_df"
      ],
      "execution_count": null,
      "outputs": []
    },
    {
      "cell_type": "code",
      "metadata": {
        "id": "W8Hd4JHBUQEb"
      },
      "source": [
        "results_df.to_csv('results_test.csv',index= False ,header=True)"
      ],
      "execution_count": null,
      "outputs": []
    },
    {
      "cell_type": "code",
      "metadata": {
        "id": "Cuj9QQBYb1Q7"
      },
      "source": [
        ""
      ],
      "execution_count": null,
      "outputs": []
    }
  ]
}